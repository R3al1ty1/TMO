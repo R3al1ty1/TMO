{
 "cells": [
  {
   "cell_type": "markdown",
   "metadata": {},
   "source": [
    "    # Обработка пропусков в данных, кодирование категориальных признаков, масштабирование данных.\n",
    "\n",
    "Мы научимся обрабатывать пропуски в данных для количественных (числовых) и категориальных признаков и масштабировать данные. Также мы научимся преобразовывать категориальные признаки в числовые."
   ]
  },
  {
   "cell_type": "markdown",
   "metadata": {},
   "source": [
    "### В чем состоит проблема?\n",
    "\n",
    "- Если в данных есть пропуски, то большинство алгоритмов машинного обучения не будут с ними работать. Даже корреляционная матрица не будет строиться корректно.\n",
    "- Большинство алгоритмов машинного обучения требуют явного перекодирования категориальных признаков в числовые. Даже если алгоритм не требует этого явно, такое перекодирование возможно стоит попробовать, чтобы повысить качество модели.\n",
    "- Большинство алгоритмов показывает лучшее качество на масштабированных признаках, в особенности алгоритмы, использующие методы градиентного спуска.\n"
   ]
  },
  {
   "cell_type": "code",
   "execution_count": 2,
   "metadata": {
    "ExecuteTime": {
     "end_time": "2024-03-21T15:19:59.679537Z",
     "start_time": "2024-03-21T15:19:59.635553Z"
    }
   },
   "outputs": [],
   "source": [
    "import numpy as np\n",
    "import pandas as pd\n",
    "import seaborn as sns\n",
    "import matplotlib.pyplot as plt\n",
    "%matplotlib inline \n",
    "sns.set(style=\"ticks\")"
   ]
  },
  {
   "cell_type": "markdown",
   "metadata": {},
   "source": [
    "## Загрузка и первичный анализ данных\n",
    "\n",
    "Используем данные с сайта Kaggle по сервису Airbnb (https://www.kaggle.com/datasets/arianazmoudeh/airbnbopendata)"
   ]
  },
  {
   "cell_type": "code",
   "execution_count": 3,
   "metadata": {
    "ExecuteTime": {
     "end_time": "2024-03-21T15:20:03.192335Z",
     "start_time": "2024-03-21T15:20:02.798611Z"
    }
   },
   "outputs": [
    {
     "name": "stderr",
     "output_type": "stream",
     "text": [
      "/var/folders/x5/vxnm00_x5mb_9_7q5nnxpp6c0000gn/T/ipykernel_93096/2270684328.py:2: DtypeWarning: Columns (25) have mixed types. Specify dtype option on import or set low_memory=False.\n",
      "  data = pd.read_csv('Airbnb_Open_Data.csv', sep=\",\")\n"
     ]
    }
   ],
   "source": [
    "# Будем использовать только обучающую выборку\n",
    "data = pd.read_csv('Airbnb_Open_Data.csv', sep=\",\")"
   ]
  },
  {
   "cell_type": "code",
   "execution_count": 4,
   "metadata": {
    "ExecuteTime": {
     "end_time": "2024-03-21T15:20:04.341077Z",
     "start_time": "2024-03-21T15:20:04.313004Z"
    }
   },
   "outputs": [
    {
     "data": {
      "text/plain": "(102599, 26)"
     },
     "execution_count": 4,
     "metadata": {},
     "output_type": "execute_result"
    }
   ],
   "source": [
    "# размер набора данных\n",
    "data.shape"
   ]
  },
  {
   "cell_type": "code",
   "execution_count": 5,
   "metadata": {
    "ExecuteTime": {
     "end_time": "2024-03-21T15:20:05.622577Z",
     "start_time": "2024-03-21T15:20:05.604091Z"
    }
   },
   "outputs": [
    {
     "data": {
      "text/plain": "id                                  int64\nNAME                               object\nhost id                             int64\nhost_identity_verified             object\nhost name                          object\nneighbourhood group                object\nneighbourhood                      object\nlat                               float64\nlong                              float64\ncountry                            object\ncountry code                       object\ninstant_bookable                   object\ncancellation_policy                object\nroom type                          object\nConstruction year                 float64\nprice                              object\nservice fee                       float64\nminimum nights                    float64\nnumber of reviews                 float64\nlast review                        object\nreviews per month                 float64\nreview rate number                float64\ncalculated host listings count    float64\navailability 365                  float64\nhouse_rules                        object\nlicense                            object\ndtype: object"
     },
     "execution_count": 5,
     "metadata": {},
     "output_type": "execute_result"
    }
   ],
   "source": [
    "# типы колонок\n",
    "data.dtypes"
   ]
  },
  {
   "cell_type": "code",
   "execution_count": 6,
   "metadata": {
    "ExecuteTime": {
     "end_time": "2024-03-21T15:20:06.398245Z",
     "start_time": "2024-03-21T15:20:06.361277Z"
    }
   },
   "outputs": [
    {
     "data": {
      "text/plain": "id                                     0\nNAME                                 250\nhost id                                0\nhost_identity_verified               289\nhost name                            406\nneighbourhood group                   29\nneighbourhood                         16\nlat                                    8\nlong                                   8\ncountry                              532\ncountry code                         131\ninstant_bookable                     105\ncancellation_policy                   76\nroom type                              0\nConstruction year                    214\nprice                                247\nservice fee                          273\nminimum nights                       409\nnumber of reviews                    183\nlast review                        15893\nreviews per month                  15879\nreview rate number                   326\ncalculated host listings count       319\navailability 365                     448\nhouse_rules                        52131\nlicense                           102597\ndtype: int64"
     },
     "execution_count": 6,
     "metadata": {},
     "output_type": "execute_result"
    }
   ],
   "source": [
    "data.isnull().sum()"
   ]
  },
  {
   "cell_type": "code",
   "execution_count": 7,
   "metadata": {
    "ExecuteTime": {
     "end_time": "2024-03-21T15:20:07.073573Z",
     "start_time": "2024-03-21T15:20:07.068856Z"
    }
   },
   "outputs": [
    {
     "data": {
      "text/plain": "        id                                              NAME      host id  \\\n0  1001254                Clean & quiet apt home by the park  80014485718   \n1  1002102                             Skylit Midtown Castle  52335172823   \n2  1002403               THE VILLAGE OF HARLEM....NEW YORK !  78829239556   \n3  1002755                                               NaN  85098326012   \n4  1003689  Entire Apt: Spacious Studio/Loft by central park  92037596077   \n\n  host_identity_verified host name neighbourhood group neighbourhood  \\\n0            unconfirmed  Madaline            Brooklyn    Kensington   \n1               verified     Jenna           Manhattan       Midtown   \n2                    NaN     Elise           Manhattan        Harlem   \n3            unconfirmed     Garry            Brooklyn  Clinton Hill   \n4               verified    Lyndon           Manhattan   East Harlem   \n\n        lat      long        country  ... service fee minimum nights  \\\n0  40.64749 -73.97237  United States  ...       193.0           10.0   \n1  40.75362 -73.98377  United States  ...        28.0           30.0   \n2  40.80902 -73.94190  United States  ...       124.0            3.0   \n3  40.68514 -73.95976  United States  ...        74.0           30.0   \n4  40.79851 -73.94399  United States  ...        41.0           10.0   \n\n  number of reviews last review  reviews per month review rate number  \\\n0               9.0  10/19/2021               0.21                4.0   \n1              45.0   5/21/2022               0.38                4.0   \n2               0.0         NaN                NaN                5.0   \n3             270.0    7/5/2019               4.64                4.0   \n4               9.0  11/19/2018               0.10                3.0   \n\n   calculated host listings count  availability 365  \\\n0                             6.0             286.0   \n1                             2.0             228.0   \n2                             1.0             352.0   \n3                             1.0             322.0   \n4                             1.0             289.0   \n\n                                         house_rules license  \n0  Clean up and treat the home the way you'd like...     NaN  \n1  Pet friendly but please confirm with me if the...     NaN  \n2  I encourage you to use my kitchen, cooking and...     NaN  \n3                                                NaN     NaN  \n4  Please no smoking in the house, porch or on th...     NaN  \n\n[5 rows x 26 columns]",
      "text/html": "<div>\n<style scoped>\n    .dataframe tbody tr th:only-of-type {\n        vertical-align: middle;\n    }\n\n    .dataframe tbody tr th {\n        vertical-align: top;\n    }\n\n    .dataframe thead th {\n        text-align: right;\n    }\n</style>\n<table border=\"1\" class=\"dataframe\">\n  <thead>\n    <tr style=\"text-align: right;\">\n      <th></th>\n      <th>id</th>\n      <th>NAME</th>\n      <th>host id</th>\n      <th>host_identity_verified</th>\n      <th>host name</th>\n      <th>neighbourhood group</th>\n      <th>neighbourhood</th>\n      <th>lat</th>\n      <th>long</th>\n      <th>country</th>\n      <th>...</th>\n      <th>service fee</th>\n      <th>minimum nights</th>\n      <th>number of reviews</th>\n      <th>last review</th>\n      <th>reviews per month</th>\n      <th>review rate number</th>\n      <th>calculated host listings count</th>\n      <th>availability 365</th>\n      <th>house_rules</th>\n      <th>license</th>\n    </tr>\n  </thead>\n  <tbody>\n    <tr>\n      <th>0</th>\n      <td>1001254</td>\n      <td>Clean &amp; quiet apt home by the park</td>\n      <td>80014485718</td>\n      <td>unconfirmed</td>\n      <td>Madaline</td>\n      <td>Brooklyn</td>\n      <td>Kensington</td>\n      <td>40.64749</td>\n      <td>-73.97237</td>\n      <td>United States</td>\n      <td>...</td>\n      <td>193.0</td>\n      <td>10.0</td>\n      <td>9.0</td>\n      <td>10/19/2021</td>\n      <td>0.21</td>\n      <td>4.0</td>\n      <td>6.0</td>\n      <td>286.0</td>\n      <td>Clean up and treat the home the way you'd like...</td>\n      <td>NaN</td>\n    </tr>\n    <tr>\n      <th>1</th>\n      <td>1002102</td>\n      <td>Skylit Midtown Castle</td>\n      <td>52335172823</td>\n      <td>verified</td>\n      <td>Jenna</td>\n      <td>Manhattan</td>\n      <td>Midtown</td>\n      <td>40.75362</td>\n      <td>-73.98377</td>\n      <td>United States</td>\n      <td>...</td>\n      <td>28.0</td>\n      <td>30.0</td>\n      <td>45.0</td>\n      <td>5/21/2022</td>\n      <td>0.38</td>\n      <td>4.0</td>\n      <td>2.0</td>\n      <td>228.0</td>\n      <td>Pet friendly but please confirm with me if the...</td>\n      <td>NaN</td>\n    </tr>\n    <tr>\n      <th>2</th>\n      <td>1002403</td>\n      <td>THE VILLAGE OF HARLEM....NEW YORK !</td>\n      <td>78829239556</td>\n      <td>NaN</td>\n      <td>Elise</td>\n      <td>Manhattan</td>\n      <td>Harlem</td>\n      <td>40.80902</td>\n      <td>-73.94190</td>\n      <td>United States</td>\n      <td>...</td>\n      <td>124.0</td>\n      <td>3.0</td>\n      <td>0.0</td>\n      <td>NaN</td>\n      <td>NaN</td>\n      <td>5.0</td>\n      <td>1.0</td>\n      <td>352.0</td>\n      <td>I encourage you to use my kitchen, cooking and...</td>\n      <td>NaN</td>\n    </tr>\n    <tr>\n      <th>3</th>\n      <td>1002755</td>\n      <td>NaN</td>\n      <td>85098326012</td>\n      <td>unconfirmed</td>\n      <td>Garry</td>\n      <td>Brooklyn</td>\n      <td>Clinton Hill</td>\n      <td>40.68514</td>\n      <td>-73.95976</td>\n      <td>United States</td>\n      <td>...</td>\n      <td>74.0</td>\n      <td>30.0</td>\n      <td>270.0</td>\n      <td>7/5/2019</td>\n      <td>4.64</td>\n      <td>4.0</td>\n      <td>1.0</td>\n      <td>322.0</td>\n      <td>NaN</td>\n      <td>NaN</td>\n    </tr>\n    <tr>\n      <th>4</th>\n      <td>1003689</td>\n      <td>Entire Apt: Spacious Studio/Loft by central park</td>\n      <td>92037596077</td>\n      <td>verified</td>\n      <td>Lyndon</td>\n      <td>Manhattan</td>\n      <td>East Harlem</td>\n      <td>40.79851</td>\n      <td>-73.94399</td>\n      <td>United States</td>\n      <td>...</td>\n      <td>41.0</td>\n      <td>10.0</td>\n      <td>9.0</td>\n      <td>11/19/2018</td>\n      <td>0.10</td>\n      <td>3.0</td>\n      <td>1.0</td>\n      <td>289.0</td>\n      <td>Please no smoking in the house, porch or on th...</td>\n      <td>NaN</td>\n    </tr>\n  </tbody>\n</table>\n<p>5 rows × 26 columns</p>\n</div>"
     },
     "execution_count": 7,
     "metadata": {},
     "output_type": "execute_result"
    }
   ],
   "source": [
    "# Первые 5 строк датасета\n",
    "data.head()"
   ]
  },
  {
   "cell_type": "code",
   "execution_count": 8,
   "metadata": {
    "ExecuteTime": {
     "end_time": "2024-03-21T15:20:07.885346Z",
     "start_time": "2024-03-21T15:20:07.845734Z"
    }
   },
   "outputs": [
    {
     "name": "stdout",
     "output_type": "stream",
     "text": [
      "Всего строк: 102599\n"
     ]
    }
   ],
   "source": [
    "total_count = data.shape[0]\n",
    "print('Всего строк: {}'.format(total_count))"
   ]
  },
  {
   "cell_type": "markdown",
   "metadata": {},
   "source": [
    "# Обработка пропусков в данных"
   ]
  },
  {
   "cell_type": "markdown",
   "metadata": {},
   "source": [
    "## Простые стратегии - удаление или заполнение нулями\n",
    "\n",
    "Удаление колонок, содержащих пустые значения\n",
    "`res = data.dropna(axis=1, how='any')`\n",
    "\n",
    "Удаление строк, содержащих пустые значения\n",
    "`res = data.dropna(axis=0, how='any')`\n",
    "\n",
    "[Документация](https://pandas.pydata.org/pandas-docs/stable/reference/api/pandas.DataFrame.dropna.html)\n",
    "\n",
    "**Удаление может производиться для группы строк или колонок.**"
   ]
  },
  {
   "cell_type": "code",
   "execution_count": 9,
   "metadata": {
    "ExecuteTime": {
     "end_time": "2024-03-21T15:20:10.086807Z",
     "start_time": "2024-03-21T15:20:10.041559Z"
    }
   },
   "outputs": [
    {
     "data": {
      "text/plain": "((102599, 26), (102599, 3))"
     },
     "execution_count": 9,
     "metadata": {},
     "output_type": "execute_result"
    }
   ],
   "source": [
    "# Удаление колонок, содержащих пустые значения\n",
    "data_new_1 = data.dropna(axis=1, how='any')\n",
    "(data.shape, data_new_1.shape)"
   ]
  },
  {
   "cell_type": "code",
   "execution_count": 10,
   "metadata": {
    "ExecuteTime": {
     "end_time": "2024-03-21T15:20:10.712093Z",
     "start_time": "2024-03-21T15:20:10.654310Z"
    }
   },
   "outputs": [
    {
     "data": {
      "text/plain": "((102599, 26), (1, 26))"
     },
     "execution_count": 10,
     "metadata": {},
     "output_type": "execute_result"
    }
   ],
   "source": [
    "# Удаление строк, содержащих пустые значения\n",
    "data_new_2 = data.dropna(axis=0, how='any')\n",
    "(data.shape, data_new_2.shape)"
   ]
  },
  {
   "cell_type": "code",
   "execution_count": 11,
   "metadata": {
    "ExecuteTime": {
     "end_time": "2024-03-21T15:20:11.244411Z",
     "start_time": "2024-03-21T15:20:11.223471Z"
    }
   },
   "outputs": [
    {
     "data": {
      "text/plain": "        id                                              NAME      host id  \\\n0  1001254                Clean & quiet apt home by the park  80014485718   \n1  1002102                             Skylit Midtown Castle  52335172823   \n2  1002403               THE VILLAGE OF HARLEM....NEW YORK !  78829239556   \n3  1002755                                               NaN  85098326012   \n4  1003689  Entire Apt: Spacious Studio/Loft by central park  92037596077   \n\n  host_identity_verified host name neighbourhood group neighbourhood  \\\n0            unconfirmed  Madaline            Brooklyn    Kensington   \n1               verified     Jenna           Manhattan       Midtown   \n2                    NaN     Elise           Manhattan        Harlem   \n3            unconfirmed     Garry            Brooklyn  Clinton Hill   \n4               verified    Lyndon           Manhattan   East Harlem   \n\n        lat      long        country  ... service fee minimum nights  \\\n0  40.64749 -73.97237  United States  ...       193.0           10.0   \n1  40.75362 -73.98377  United States  ...        28.0           30.0   \n2  40.80902 -73.94190  United States  ...       124.0            3.0   \n3  40.68514 -73.95976  United States  ...        74.0           30.0   \n4  40.79851 -73.94399  United States  ...        41.0           10.0   \n\n  number of reviews last review  reviews per month review rate number  \\\n0               9.0  10/19/2021               0.21                4.0   \n1              45.0   5/21/2022               0.38                4.0   \n2               0.0         NaN                NaN                5.0   \n3             270.0    7/5/2019               4.64                4.0   \n4               9.0  11/19/2018               0.10                3.0   \n\n   calculated host listings count  availability 365  \\\n0                             6.0             286.0   \n1                             2.0             228.0   \n2                             1.0             352.0   \n3                             1.0             322.0   \n4                             1.0             289.0   \n\n                                         house_rules license  \n0  Clean up and treat the home the way you'd like...     NaN  \n1  Pet friendly but please confirm with me if the...     NaN  \n2  I encourage you to use my kitchen, cooking and...     NaN  \n3                                                NaN     NaN  \n4  Please no smoking in the house, porch or on th...     NaN  \n\n[5 rows x 26 columns]",
      "text/html": "<div>\n<style scoped>\n    .dataframe tbody tr th:only-of-type {\n        vertical-align: middle;\n    }\n\n    .dataframe tbody tr th {\n        vertical-align: top;\n    }\n\n    .dataframe thead th {\n        text-align: right;\n    }\n</style>\n<table border=\"1\" class=\"dataframe\">\n  <thead>\n    <tr style=\"text-align: right;\">\n      <th></th>\n      <th>id</th>\n      <th>NAME</th>\n      <th>host id</th>\n      <th>host_identity_verified</th>\n      <th>host name</th>\n      <th>neighbourhood group</th>\n      <th>neighbourhood</th>\n      <th>lat</th>\n      <th>long</th>\n      <th>country</th>\n      <th>...</th>\n      <th>service fee</th>\n      <th>minimum nights</th>\n      <th>number of reviews</th>\n      <th>last review</th>\n      <th>reviews per month</th>\n      <th>review rate number</th>\n      <th>calculated host listings count</th>\n      <th>availability 365</th>\n      <th>house_rules</th>\n      <th>license</th>\n    </tr>\n  </thead>\n  <tbody>\n    <tr>\n      <th>0</th>\n      <td>1001254</td>\n      <td>Clean &amp; quiet apt home by the park</td>\n      <td>80014485718</td>\n      <td>unconfirmed</td>\n      <td>Madaline</td>\n      <td>Brooklyn</td>\n      <td>Kensington</td>\n      <td>40.64749</td>\n      <td>-73.97237</td>\n      <td>United States</td>\n      <td>...</td>\n      <td>193.0</td>\n      <td>10.0</td>\n      <td>9.0</td>\n      <td>10/19/2021</td>\n      <td>0.21</td>\n      <td>4.0</td>\n      <td>6.0</td>\n      <td>286.0</td>\n      <td>Clean up and treat the home the way you'd like...</td>\n      <td>NaN</td>\n    </tr>\n    <tr>\n      <th>1</th>\n      <td>1002102</td>\n      <td>Skylit Midtown Castle</td>\n      <td>52335172823</td>\n      <td>verified</td>\n      <td>Jenna</td>\n      <td>Manhattan</td>\n      <td>Midtown</td>\n      <td>40.75362</td>\n      <td>-73.98377</td>\n      <td>United States</td>\n      <td>...</td>\n      <td>28.0</td>\n      <td>30.0</td>\n      <td>45.0</td>\n      <td>5/21/2022</td>\n      <td>0.38</td>\n      <td>4.0</td>\n      <td>2.0</td>\n      <td>228.0</td>\n      <td>Pet friendly but please confirm with me if the...</td>\n      <td>NaN</td>\n    </tr>\n    <tr>\n      <th>2</th>\n      <td>1002403</td>\n      <td>THE VILLAGE OF HARLEM....NEW YORK !</td>\n      <td>78829239556</td>\n      <td>NaN</td>\n      <td>Elise</td>\n      <td>Manhattan</td>\n      <td>Harlem</td>\n      <td>40.80902</td>\n      <td>-73.94190</td>\n      <td>United States</td>\n      <td>...</td>\n      <td>124.0</td>\n      <td>3.0</td>\n      <td>0.0</td>\n      <td>NaN</td>\n      <td>NaN</td>\n      <td>5.0</td>\n      <td>1.0</td>\n      <td>352.0</td>\n      <td>I encourage you to use my kitchen, cooking and...</td>\n      <td>NaN</td>\n    </tr>\n    <tr>\n      <th>3</th>\n      <td>1002755</td>\n      <td>NaN</td>\n      <td>85098326012</td>\n      <td>unconfirmed</td>\n      <td>Garry</td>\n      <td>Brooklyn</td>\n      <td>Clinton Hill</td>\n      <td>40.68514</td>\n      <td>-73.95976</td>\n      <td>United States</td>\n      <td>...</td>\n      <td>74.0</td>\n      <td>30.0</td>\n      <td>270.0</td>\n      <td>7/5/2019</td>\n      <td>4.64</td>\n      <td>4.0</td>\n      <td>1.0</td>\n      <td>322.0</td>\n      <td>NaN</td>\n      <td>NaN</td>\n    </tr>\n    <tr>\n      <th>4</th>\n      <td>1003689</td>\n      <td>Entire Apt: Spacious Studio/Loft by central park</td>\n      <td>92037596077</td>\n      <td>verified</td>\n      <td>Lyndon</td>\n      <td>Manhattan</td>\n      <td>East Harlem</td>\n      <td>40.79851</td>\n      <td>-73.94399</td>\n      <td>United States</td>\n      <td>...</td>\n      <td>41.0</td>\n      <td>10.0</td>\n      <td>9.0</td>\n      <td>11/19/2018</td>\n      <td>0.10</td>\n      <td>3.0</td>\n      <td>1.0</td>\n      <td>289.0</td>\n      <td>Please no smoking in the house, porch or on th...</td>\n      <td>NaN</td>\n    </tr>\n  </tbody>\n</table>\n<p>5 rows × 26 columns</p>\n</div>"
     },
     "execution_count": 11,
     "metadata": {},
     "output_type": "execute_result"
    }
   ],
   "source": [
    "data.head()"
   ]
  },
  {
   "cell_type": "code",
   "execution_count": 12,
   "metadata": {
    "ExecuteTime": {
     "end_time": "2024-03-21T15:20:11.923373Z",
     "start_time": "2024-03-21T15:20:11.845132Z"
    }
   },
   "outputs": [
    {
     "data": {
      "text/plain": "        id                                              NAME      host id  \\\n0  1001254                Clean & quiet apt home by the park  80014485718   \n1  1002102                             Skylit Midtown Castle  52335172823   \n2  1002403               THE VILLAGE OF HARLEM....NEW YORK !  78829239556   \n3  1002755                                                 0  85098326012   \n4  1003689  Entire Apt: Spacious Studio/Loft by central park  92037596077   \n\n  host_identity_verified host name neighbourhood group neighbourhood  \\\n0            unconfirmed  Madaline            Brooklyn    Kensington   \n1               verified     Jenna           Manhattan       Midtown   \n2                      0     Elise           Manhattan        Harlem   \n3            unconfirmed     Garry            Brooklyn  Clinton Hill   \n4               verified    Lyndon           Manhattan   East Harlem   \n\n        lat      long        country  ... service fee minimum nights  \\\n0  40.64749 -73.97237  United States  ...       193.0           10.0   \n1  40.75362 -73.98377  United States  ...        28.0           30.0   \n2  40.80902 -73.94190  United States  ...       124.0            3.0   \n3  40.68514 -73.95976  United States  ...        74.0           30.0   \n4  40.79851 -73.94399  United States  ...        41.0           10.0   \n\n  number of reviews last review  reviews per month review rate number  \\\n0               9.0  10/19/2021               0.21                4.0   \n1              45.0   5/21/2022               0.38                4.0   \n2               0.0           0               0.00                5.0   \n3             270.0    7/5/2019               4.64                4.0   \n4               9.0  11/19/2018               0.10                3.0   \n\n   calculated host listings count  availability 365  \\\n0                             6.0             286.0   \n1                             2.0             228.0   \n2                             1.0             352.0   \n3                             1.0             322.0   \n4                             1.0             289.0   \n\n                                         house_rules license  \n0  Clean up and treat the home the way you'd like...       0  \n1  Pet friendly but please confirm with me if the...       0  \n2  I encourage you to use my kitchen, cooking and...       0  \n3                                                  0       0  \n4  Please no smoking in the house, porch or on th...       0  \n\n[5 rows x 26 columns]",
      "text/html": "<div>\n<style scoped>\n    .dataframe tbody tr th:only-of-type {\n        vertical-align: middle;\n    }\n\n    .dataframe tbody tr th {\n        vertical-align: top;\n    }\n\n    .dataframe thead th {\n        text-align: right;\n    }\n</style>\n<table border=\"1\" class=\"dataframe\">\n  <thead>\n    <tr style=\"text-align: right;\">\n      <th></th>\n      <th>id</th>\n      <th>NAME</th>\n      <th>host id</th>\n      <th>host_identity_verified</th>\n      <th>host name</th>\n      <th>neighbourhood group</th>\n      <th>neighbourhood</th>\n      <th>lat</th>\n      <th>long</th>\n      <th>country</th>\n      <th>...</th>\n      <th>service fee</th>\n      <th>minimum nights</th>\n      <th>number of reviews</th>\n      <th>last review</th>\n      <th>reviews per month</th>\n      <th>review rate number</th>\n      <th>calculated host listings count</th>\n      <th>availability 365</th>\n      <th>house_rules</th>\n      <th>license</th>\n    </tr>\n  </thead>\n  <tbody>\n    <tr>\n      <th>0</th>\n      <td>1001254</td>\n      <td>Clean &amp; quiet apt home by the park</td>\n      <td>80014485718</td>\n      <td>unconfirmed</td>\n      <td>Madaline</td>\n      <td>Brooklyn</td>\n      <td>Kensington</td>\n      <td>40.64749</td>\n      <td>-73.97237</td>\n      <td>United States</td>\n      <td>...</td>\n      <td>193.0</td>\n      <td>10.0</td>\n      <td>9.0</td>\n      <td>10/19/2021</td>\n      <td>0.21</td>\n      <td>4.0</td>\n      <td>6.0</td>\n      <td>286.0</td>\n      <td>Clean up and treat the home the way you'd like...</td>\n      <td>0</td>\n    </tr>\n    <tr>\n      <th>1</th>\n      <td>1002102</td>\n      <td>Skylit Midtown Castle</td>\n      <td>52335172823</td>\n      <td>verified</td>\n      <td>Jenna</td>\n      <td>Manhattan</td>\n      <td>Midtown</td>\n      <td>40.75362</td>\n      <td>-73.98377</td>\n      <td>United States</td>\n      <td>...</td>\n      <td>28.0</td>\n      <td>30.0</td>\n      <td>45.0</td>\n      <td>5/21/2022</td>\n      <td>0.38</td>\n      <td>4.0</td>\n      <td>2.0</td>\n      <td>228.0</td>\n      <td>Pet friendly but please confirm with me if the...</td>\n      <td>0</td>\n    </tr>\n    <tr>\n      <th>2</th>\n      <td>1002403</td>\n      <td>THE VILLAGE OF HARLEM....NEW YORK !</td>\n      <td>78829239556</td>\n      <td>0</td>\n      <td>Elise</td>\n      <td>Manhattan</td>\n      <td>Harlem</td>\n      <td>40.80902</td>\n      <td>-73.94190</td>\n      <td>United States</td>\n      <td>...</td>\n      <td>124.0</td>\n      <td>3.0</td>\n      <td>0.0</td>\n      <td>0</td>\n      <td>0.00</td>\n      <td>5.0</td>\n      <td>1.0</td>\n      <td>352.0</td>\n      <td>I encourage you to use my kitchen, cooking and...</td>\n      <td>0</td>\n    </tr>\n    <tr>\n      <th>3</th>\n      <td>1002755</td>\n      <td>0</td>\n      <td>85098326012</td>\n      <td>unconfirmed</td>\n      <td>Garry</td>\n      <td>Brooklyn</td>\n      <td>Clinton Hill</td>\n      <td>40.68514</td>\n      <td>-73.95976</td>\n      <td>United States</td>\n      <td>...</td>\n      <td>74.0</td>\n      <td>30.0</td>\n      <td>270.0</td>\n      <td>7/5/2019</td>\n      <td>4.64</td>\n      <td>4.0</td>\n      <td>1.0</td>\n      <td>322.0</td>\n      <td>0</td>\n      <td>0</td>\n    </tr>\n    <tr>\n      <th>4</th>\n      <td>1003689</td>\n      <td>Entire Apt: Spacious Studio/Loft by central park</td>\n      <td>92037596077</td>\n      <td>verified</td>\n      <td>Lyndon</td>\n      <td>Manhattan</td>\n      <td>East Harlem</td>\n      <td>40.79851</td>\n      <td>-73.94399</td>\n      <td>United States</td>\n      <td>...</td>\n      <td>41.0</td>\n      <td>10.0</td>\n      <td>9.0</td>\n      <td>11/19/2018</td>\n      <td>0.10</td>\n      <td>3.0</td>\n      <td>1.0</td>\n      <td>289.0</td>\n      <td>Please no smoking in the house, porch or on th...</td>\n      <td>0</td>\n    </tr>\n  </tbody>\n</table>\n<p>5 rows × 26 columns</p>\n</div>"
     },
     "execution_count": 12,
     "metadata": {},
     "output_type": "execute_result"
    }
   ],
   "source": [
    "# Заполнение всех пропущенных значений нулями\n",
    "# В данном случае это некорректно, так как нулями заполняются в том числе категориальные колонки\n",
    "data_new_3 = data.fillna(0)\n",
    "data_new_3.head()"
   ]
  },
  {
   "cell_type": "markdown",
   "metadata": {},
   "source": [
    "## \"Внедрение значений\" - импьютация (imputation)"
   ]
  },
  {
   "cell_type": "markdown",
   "metadata": {},
   "source": [
    "### Обработка пропусков в числовых данных"
   ]
  },
  {
   "cell_type": "code",
   "execution_count": 13,
   "metadata": {
    "ExecuteTime": {
     "end_time": "2024-03-21T15:20:16.483770Z",
     "start_time": "2024-03-21T15:20:16.390461Z"
    }
   },
   "outputs": [
    {
     "name": "stdout",
     "output_type": "stream",
     "text": [
      "Колонка lat. Тип данных float64. Количество пустых значений 8, 0.01%.\n",
      "Колонка long. Тип данных float64. Количество пустых значений 8, 0.01%.\n",
      "Колонка Construction year. Тип данных float64. Количество пустых значений 214, 0.21%.\n",
      "Колонка service fee. Тип данных float64. Количество пустых значений 273, 0.27%.\n",
      "Колонка minimum nights. Тип данных float64. Количество пустых значений 409, 0.4%.\n",
      "Колонка number of reviews. Тип данных float64. Количество пустых значений 183, 0.18%.\n",
      "Колонка reviews per month. Тип данных float64. Количество пустых значений 15879, 15.48%.\n",
      "Колонка review rate number. Тип данных float64. Количество пустых значений 326, 0.32%.\n",
      "Колонка calculated host listings count. Тип данных float64. Количество пустых значений 319, 0.31%.\n",
      "Колонка availability 365. Тип данных float64. Количество пустых значений 448, 0.44%.\n"
     ]
    }
   ],
   "source": [
    "# Выберем числовые колонки с пропущенными значениями\n",
    "# Цикл по колонкам датасета\n",
    "num_cols = []\n",
    "for col in data.columns:\n",
    "    # Количество пустых значений \n",
    "    temp_null_count = data[data[col].isnull()].shape[0]\n",
    "    dt = str(data[col].dtype)\n",
    "    if temp_null_count>0 and (dt=='float64' or dt=='int64'):\n",
    "        num_cols.append(col)\n",
    "        temp_perc = round((temp_null_count / total_count) * 100.0, 2)\n",
    "        print('Колонка {}. Тип данных {}. Количество пустых значений {}, {}%.'.format(col, dt, temp_null_count, temp_perc))"
   ]
  },
  {
   "cell_type": "code",
   "execution_count": 14,
   "metadata": {
    "ExecuteTime": {
     "end_time": "2024-03-21T15:20:17.505244Z",
     "start_time": "2024-03-21T15:20:17.491510Z"
    }
   },
   "outputs": [
    {
     "data": {
      "text/plain": "             lat      long  Construction year  service fee  minimum nights  \\\n0       40.64749 -73.97237             2020.0        193.0            10.0   \n1       40.75362 -73.98377             2007.0         28.0            30.0   \n2       40.80902 -73.94190             2005.0        124.0             3.0   \n3       40.68514 -73.95976             2005.0         74.0            30.0   \n4       40.79851 -73.94399             2009.0         41.0            10.0   \n...          ...       ...                ...          ...             ...   \n102594  40.70862 -73.94651             2003.0        169.0             1.0   \n102595  40.80460 -73.96545             2016.0        167.0             1.0   \n102596  40.67505 -73.98045             2009.0        198.0             3.0   \n102597  40.74989 -73.93777             2015.0        109.0             2.0   \n102598  40.76807 -73.98342             2010.0        206.0             1.0   \n\n        number of reviews  reviews per month  review rate number  \\\n0                     9.0               0.21                 4.0   \n1                    45.0               0.38                 4.0   \n2                     0.0                NaN                 5.0   \n3                   270.0               4.64                 4.0   \n4                     9.0               0.10                 3.0   \n...                   ...                ...                 ...   \n102594                0.0                NaN                 3.0   \n102595                1.0               0.02                 2.0   \n102596                0.0                NaN                 5.0   \n102597                5.0               0.10                 3.0   \n102598                0.0                NaN                 3.0   \n\n        calculated host listings count  availability 365  \n0                                  6.0             286.0  \n1                                  2.0             228.0  \n2                                  1.0             352.0  \n3                                  1.0             322.0  \n4                                  1.0             289.0  \n...                                ...               ...  \n102594                             1.0             227.0  \n102595                             2.0             395.0  \n102596                             1.0             342.0  \n102597                             1.0             386.0  \n102598                             1.0              69.0  \n\n[102599 rows x 10 columns]",
      "text/html": "<div>\n<style scoped>\n    .dataframe tbody tr th:only-of-type {\n        vertical-align: middle;\n    }\n\n    .dataframe tbody tr th {\n        vertical-align: top;\n    }\n\n    .dataframe thead th {\n        text-align: right;\n    }\n</style>\n<table border=\"1\" class=\"dataframe\">\n  <thead>\n    <tr style=\"text-align: right;\">\n      <th></th>\n      <th>lat</th>\n      <th>long</th>\n      <th>Construction year</th>\n      <th>service fee</th>\n      <th>minimum nights</th>\n      <th>number of reviews</th>\n      <th>reviews per month</th>\n      <th>review rate number</th>\n      <th>calculated host listings count</th>\n      <th>availability 365</th>\n    </tr>\n  </thead>\n  <tbody>\n    <tr>\n      <th>0</th>\n      <td>40.64749</td>\n      <td>-73.97237</td>\n      <td>2020.0</td>\n      <td>193.0</td>\n      <td>10.0</td>\n      <td>9.0</td>\n      <td>0.21</td>\n      <td>4.0</td>\n      <td>6.0</td>\n      <td>286.0</td>\n    </tr>\n    <tr>\n      <th>1</th>\n      <td>40.75362</td>\n      <td>-73.98377</td>\n      <td>2007.0</td>\n      <td>28.0</td>\n      <td>30.0</td>\n      <td>45.0</td>\n      <td>0.38</td>\n      <td>4.0</td>\n      <td>2.0</td>\n      <td>228.0</td>\n    </tr>\n    <tr>\n      <th>2</th>\n      <td>40.80902</td>\n      <td>-73.94190</td>\n      <td>2005.0</td>\n      <td>124.0</td>\n      <td>3.0</td>\n      <td>0.0</td>\n      <td>NaN</td>\n      <td>5.0</td>\n      <td>1.0</td>\n      <td>352.0</td>\n    </tr>\n    <tr>\n      <th>3</th>\n      <td>40.68514</td>\n      <td>-73.95976</td>\n      <td>2005.0</td>\n      <td>74.0</td>\n      <td>30.0</td>\n      <td>270.0</td>\n      <td>4.64</td>\n      <td>4.0</td>\n      <td>1.0</td>\n      <td>322.0</td>\n    </tr>\n    <tr>\n      <th>4</th>\n      <td>40.79851</td>\n      <td>-73.94399</td>\n      <td>2009.0</td>\n      <td>41.0</td>\n      <td>10.0</td>\n      <td>9.0</td>\n      <td>0.10</td>\n      <td>3.0</td>\n      <td>1.0</td>\n      <td>289.0</td>\n    </tr>\n    <tr>\n      <th>...</th>\n      <td>...</td>\n      <td>...</td>\n      <td>...</td>\n      <td>...</td>\n      <td>...</td>\n      <td>...</td>\n      <td>...</td>\n      <td>...</td>\n      <td>...</td>\n      <td>...</td>\n    </tr>\n    <tr>\n      <th>102594</th>\n      <td>40.70862</td>\n      <td>-73.94651</td>\n      <td>2003.0</td>\n      <td>169.0</td>\n      <td>1.0</td>\n      <td>0.0</td>\n      <td>NaN</td>\n      <td>3.0</td>\n      <td>1.0</td>\n      <td>227.0</td>\n    </tr>\n    <tr>\n      <th>102595</th>\n      <td>40.80460</td>\n      <td>-73.96545</td>\n      <td>2016.0</td>\n      <td>167.0</td>\n      <td>1.0</td>\n      <td>1.0</td>\n      <td>0.02</td>\n      <td>2.0</td>\n      <td>2.0</td>\n      <td>395.0</td>\n    </tr>\n    <tr>\n      <th>102596</th>\n      <td>40.67505</td>\n      <td>-73.98045</td>\n      <td>2009.0</td>\n      <td>198.0</td>\n      <td>3.0</td>\n      <td>0.0</td>\n      <td>NaN</td>\n      <td>5.0</td>\n      <td>1.0</td>\n      <td>342.0</td>\n    </tr>\n    <tr>\n      <th>102597</th>\n      <td>40.74989</td>\n      <td>-73.93777</td>\n      <td>2015.0</td>\n      <td>109.0</td>\n      <td>2.0</td>\n      <td>5.0</td>\n      <td>0.10</td>\n      <td>3.0</td>\n      <td>1.0</td>\n      <td>386.0</td>\n    </tr>\n    <tr>\n      <th>102598</th>\n      <td>40.76807</td>\n      <td>-73.98342</td>\n      <td>2010.0</td>\n      <td>206.0</td>\n      <td>1.0</td>\n      <td>0.0</td>\n      <td>NaN</td>\n      <td>3.0</td>\n      <td>1.0</td>\n      <td>69.0</td>\n    </tr>\n  </tbody>\n</table>\n<p>102599 rows × 10 columns</p>\n</div>"
     },
     "execution_count": 14,
     "metadata": {},
     "output_type": "execute_result"
    }
   ],
   "source": [
    "# Фильтр по колонкам с пропущенными значениями\n",
    "data_num = data[num_cols]\n",
    "data_num"
   ]
  },
  {
   "cell_type": "code",
   "execution_count": 15,
   "metadata": {
    "ExecuteTime": {
     "end_time": "2024-03-21T15:20:19.449956Z",
     "start_time": "2024-03-21T15:20:18.273582Z"
    }
   },
   "outputs": [
    {
     "data": {
      "text/plain": "<Figure size 640x480 with 1 Axes>",
      "image/png": "[encoded data removed]"
     },
     "metadata": {},
     "output_type": "display_data"
    },
    {
     "data": {
      "text/plain": "<Figure size 640x480 with 1 Axes>",
      "image/png": "[encoded data removed]"
     },
     "metadata": {},
     "output_type": "display_data"
    },
    {
     "data": {
      "text/plain": "<Figure size 640x480 with 1 Axes>",
      "image/png": "[encoded data removed]"
     },
     "metadata": {},
     "output_type": "display_data"
    },
    {
     "data": {
      "text/plain": "<Figure size 640x480 with 1 Axes>",
      "image/png": "[encoded data removed]"
     },
     "metadata": {},
     "output_type": "display_data"
    },
    {
     "data": {
      "text/plain": "<Figure size 640x480 with 1 Axes>",
      "image/png": "[encoded data removed]"
     },
     "metadata": {},
     "output_type": "display_data"
    },
    {
     "data": {
      "text/plain": "<Figure size 640x480 with 1 Axes>",
      "image/png": "[encoded data removed]"
     },
     "metadata": {},
     "output_type": "display_data"
    },
    {
     "data": {
      "text/plain": "<Figure size 640x480 with 1 Axes>",
      "image/png": "[encoded data removed]"
     },
     "metadata": {},
     "output_type": "display_data"
    },
    {
     "data": {
      "text/plain": "<Figure size 640x480 with 1 Axes>",
      "image/png": "[encoded data removed]"
     },
     "metadata": {},
     "output_type": "display_data"
    },
    {
     "data": {
      "text/plain": "<Figure size 640x480 with 1 Axes>",
      "image/png": "[encoded data removed]"
     },
     "metadata": {},
     "output_type": "display_data"
    },
    {
     "data": {
      "text/plain": "<Figure size 640x480 with 1 Axes>",
      "image/png": "[encoded data removed]"
     },
     "metadata": {},
     "output_type": "display_data"
    }
   ],
   "source": [
    "# Гистограмма по признакам\n",
    "for col in data_num:\n",
    "    plt.hist(data[col], 50)\n",
    "    plt.xlabel(col)\n",
    "    plt.show()"
   ]
  },
  {
   "cell_type": "markdown",
   "metadata": {},
   "source": [
    "Будем использовать встроенные средства импьютации библиотеки scikit-learn - https://scikit-learn.org/stable/modules/impute.html"
   ]
  },
  {
   "cell_type": "code",
   "execution_count": 16,
   "metadata": {
    "ExecuteTime": {
     "end_time": "2024-03-21T15:20:21.081307Z",
     "start_time": "2024-03-21T15:20:21.021060Z"
    }
   },
   "outputs": [
    {
     "data": {
      "text/plain": "   minimum nights\n0            10.0\n1            30.0\n2             3.0\n3            30.0\n4            10.0",
      "text/html": "<div>\n<style scoped>\n    .dataframe tbody tr th:only-of-type {\n        vertical-align: middle;\n    }\n\n    .dataframe tbody tr th {\n        vertical-align: top;\n    }\n\n    .dataframe thead th {\n        text-align: right;\n    }\n</style>\n<table border=\"1\" class=\"dataframe\">\n  <thead>\n    <tr style=\"text-align: right;\">\n      <th></th>\n      <th>minimum nights</th>\n    </tr>\n  </thead>\n  <tbody>\n    <tr>\n      <th>0</th>\n      <td>10.0</td>\n    </tr>\n    <tr>\n      <th>1</th>\n      <td>30.0</td>\n    </tr>\n    <tr>\n      <th>2</th>\n      <td>3.0</td>\n    </tr>\n    <tr>\n      <th>3</th>\n      <td>30.0</td>\n    </tr>\n    <tr>\n      <th>4</th>\n      <td>10.0</td>\n    </tr>\n  </tbody>\n</table>\n</div>"
     },
     "execution_count": 16,
     "metadata": {},
     "output_type": "execute_result"
    }
   ],
   "source": [
    "data_num_MasVnrArea = data_num[['minimum nights']]\n",
    "data_num_MasVnrArea.head()"
   ]
  },
  {
   "cell_type": "code",
   "execution_count": 17,
   "metadata": {
    "ExecuteTime": {
     "end_time": "2024-03-21T15:20:23.212653Z",
     "start_time": "2024-03-21T15:20:22.397705Z"
    }
   },
   "outputs": [],
   "source": [
    "from sklearn.impute import SimpleImputer\n",
    "from sklearn.impute import MissingIndicator"
   ]
  },
  {
   "cell_type": "code",
   "execution_count": 18,
   "metadata": {
    "ExecuteTime": {
     "end_time": "2024-03-21T15:20:25.394321Z",
     "start_time": "2024-03-21T15:20:25.368327Z"
    }
   },
   "outputs": [
    {
     "data": {
      "text/plain": "array([[False],\n       [False],\n       [False],\n       ...,\n       [False],\n       [False],\n       [False]])"
     },
     "execution_count": 18,
     "metadata": {},
     "output_type": "execute_result"
    }
   ],
   "source": [
    "# Фильтр для проверки заполнения пустых значений\n",
    "indicator = MissingIndicator()\n",
    "mask_missing_values_only = indicator.fit_transform(data_num_MasVnrArea)\n",
    "mask_missing_values_only"
   ]
  },
  {
   "cell_type": "markdown",
   "metadata": {},
   "source": [
    "С помощью класса [SimpleImputer](https://scikit-learn.org/stable/modules/generated/sklearn.impute.SimpleImputer.html#sklearn.impute.SimpleImputer) можно проводить импьютацию различными [показателями центра распределения](https://ru.wikipedia.org/wiki/%D0%9F%D0%BE%D0%BA%D0%B0%D0%B7%D0%B0%D1%82%D0%B5%D0%BB%D0%B8_%D1%86%D0%B5%D0%BD%D1%82%D1%80%D0%B0_%D1%80%D0%B0%D1%81%D0%BF%D1%80%D0%B5%D0%B4%D0%B5%D0%BB%D0%B5%D0%BD%D0%B8%D1%8F)"
   ]
  },
  {
   "cell_type": "code",
   "execution_count": 19,
   "metadata": {
    "ExecuteTime": {
     "end_time": "2024-03-21T15:20:29.437782Z",
     "start_time": "2024-03-21T15:20:29.412761Z"
    }
   },
   "outputs": [],
   "source": [
    "strategies=['mean', 'median', 'most_frequent']"
   ]
  },
  {
   "cell_type": "code",
   "execution_count": 20,
   "metadata": {
    "ExecuteTime": {
     "end_time": "2024-03-21T15:20:30.010724Z",
     "start_time": "2024-03-21T15:20:30.001681Z"
    }
   },
   "outputs": [],
   "source": [
    "def test_num_impute(strategy_param):\n",
    "    imp_num = SimpleImputer(strategy=strategy_param)\n",
    "    data_num_imp = imp_num.fit_transform(data_num_MasVnrArea)\n",
    "    return data_num_imp[mask_missing_values_only]"
   ]
  },
  {
   "cell_type": "code",
   "execution_count": 21,
   "metadata": {
    "ExecuteTime": {
     "end_time": "2024-03-21T15:20:30.653339Z",
     "start_time": "2024-03-21T15:20:30.641340Z"
    }
   },
   "outputs": [
    {
     "data": {
      "text/plain": "('mean',\n array([8.13584499, 8.13584499, 8.13584499, 8.13584499, 8.13584499,\n        8.13584499, 8.13584499, 8.13584499, 8.13584499, 8.13584499,\n        8.13584499, 8.13584499, 8.13584499, 8.13584499, 8.13584499,\n        8.13584499, 8.13584499, 8.13584499, 8.13584499, 8.13584499,\n        8.13584499, 8.13584499, 8.13584499, 8.13584499, 8.13584499,\n        8.13584499, 8.13584499, 8.13584499, 8.13584499, 8.13584499,\n        8.13584499, 8.13584499, 8.13584499, 8.13584499, 8.13584499,\n        8.13584499, 8.13584499, 8.13584499, 8.13584499, 8.13584499,\n        8.13584499, 8.13584499, 8.13584499, 8.13584499, 8.13584499,\n        8.13584499, 8.13584499, 8.13584499, 8.13584499, 8.13584499,\n        8.13584499, 8.13584499, 8.13584499, 8.13584499, 8.13584499,\n        8.13584499, 8.13584499, 8.13584499, 8.13584499, 8.13584499,\n        8.13584499, 8.13584499, 8.13584499, 8.13584499, 8.13584499,\n        8.13584499, 8.13584499, 8.13584499, 8.13584499, 8.13584499,\n        8.13584499, 8.13584499, 8.13584499, 8.13584499, 8.13584499,\n        8.13584499, 8.13584499, 8.13584499, 8.13584499, 8.13584499,\n        8.13584499, 8.13584499, 8.13584499, 8.13584499, 8.13584499,\n        8.13584499, 8.13584499, 8.13584499, 8.13584499, 8.13584499,\n        8.13584499, 8.13584499, 8.13584499, 8.13584499, 8.13584499,\n        8.13584499, 8.13584499, 8.13584499, 8.13584499, 8.13584499,\n        8.13584499, 8.13584499, 8.13584499, 8.13584499, 8.13584499,\n        8.13584499, 8.13584499, 8.13584499, 8.13584499, 8.13584499,\n        8.13584499, 8.13584499, 8.13584499, 8.13584499, 8.13584499,\n        8.13584499, 8.13584499, 8.13584499, 8.13584499, 8.13584499,\n        8.13584499, 8.13584499, 8.13584499, 8.13584499, 8.13584499,\n        8.13584499, 8.13584499, 8.13584499, 8.13584499, 8.13584499,\n        8.13584499, 8.13584499, 8.13584499, 8.13584499, 8.13584499,\n        8.13584499, 8.13584499, 8.13584499, 8.13584499, 8.13584499,\n        8.13584499, 8.13584499, 8.13584499, 8.13584499, 8.13584499,\n        8.13584499, 8.13584499, 8.13584499, 8.13584499, 8.13584499,\n        8.13584499, 8.13584499, 8.13584499, 8.13584499, 8.13584499,\n        8.13584499, 8.13584499, 8.13584499, 8.13584499, 8.13584499,\n        8.13584499, 8.13584499, 8.13584499, 8.13584499, 8.13584499,\n        8.13584499, 8.13584499, 8.13584499, 8.13584499, 8.13584499,\n        8.13584499, 8.13584499, 8.13584499, 8.13584499, 8.13584499,\n        8.13584499, 8.13584499, 8.13584499, 8.13584499, 8.13584499,\n        8.13584499, 8.13584499, 8.13584499, 8.13584499, 8.13584499,\n        8.13584499, 8.13584499, 8.13584499, 8.13584499, 8.13584499,\n        8.13584499, 8.13584499, 8.13584499, 8.13584499, 8.13584499,\n        8.13584499, 8.13584499, 8.13584499, 8.13584499, 8.13584499,\n        8.13584499, 8.13584499, 8.13584499, 8.13584499, 8.13584499,\n        8.13584499, 8.13584499, 8.13584499, 8.13584499, 8.13584499,\n        8.13584499, 8.13584499, 8.13584499, 8.13584499, 8.13584499,\n        8.13584499, 8.13584499, 8.13584499, 8.13584499, 8.13584499,\n        8.13584499, 8.13584499, 8.13584499, 8.13584499, 8.13584499,\n        8.13584499, 8.13584499, 8.13584499, 8.13584499, 8.13584499,\n        8.13584499, 8.13584499, 8.13584499, 8.13584499, 8.13584499,\n        8.13584499, 8.13584499, 8.13584499, 8.13584499, 8.13584499,\n        8.13584499, 8.13584499, 8.13584499, 8.13584499, 8.13584499,\n        8.13584499, 8.13584499, 8.13584499, 8.13584499, 8.13584499,\n        8.13584499, 8.13584499, 8.13584499, 8.13584499, 8.13584499,\n        8.13584499, 8.13584499, 8.13584499, 8.13584499, 8.13584499,\n        8.13584499, 8.13584499, 8.13584499, 8.13584499, 8.13584499,\n        8.13584499, 8.13584499, 8.13584499, 8.13584499, 8.13584499,\n        8.13584499, 8.13584499, 8.13584499, 8.13584499, 8.13584499,\n        8.13584499, 8.13584499, 8.13584499, 8.13584499, 8.13584499,\n        8.13584499, 8.13584499, 8.13584499, 8.13584499, 8.13584499,\n        8.13584499, 8.13584499, 8.13584499, 8.13584499, 8.13584499,\n        8.13584499, 8.13584499, 8.13584499, 8.13584499, 8.13584499,\n        8.13584499, 8.13584499, 8.13584499, 8.13584499, 8.13584499,\n        8.13584499, 8.13584499, 8.13584499, 8.13584499, 8.13584499,\n        8.13584499, 8.13584499, 8.13584499, 8.13584499, 8.13584499,\n        8.13584499, 8.13584499, 8.13584499, 8.13584499, 8.13584499,\n        8.13584499, 8.13584499, 8.13584499, 8.13584499, 8.13584499,\n        8.13584499, 8.13584499, 8.13584499, 8.13584499, 8.13584499,\n        8.13584499, 8.13584499, 8.13584499, 8.13584499, 8.13584499,\n        8.13584499, 8.13584499, 8.13584499, 8.13584499, 8.13584499,\n        8.13584499, 8.13584499, 8.13584499, 8.13584499, 8.13584499,\n        8.13584499, 8.13584499, 8.13584499, 8.13584499, 8.13584499,\n        8.13584499, 8.13584499, 8.13584499, 8.13584499, 8.13584499,\n        8.13584499, 8.13584499, 8.13584499, 8.13584499, 8.13584499,\n        8.13584499, 8.13584499, 8.13584499, 8.13584499, 8.13584499,\n        8.13584499, 8.13584499, 8.13584499, 8.13584499, 8.13584499,\n        8.13584499, 8.13584499, 8.13584499, 8.13584499, 8.13584499,\n        8.13584499, 8.13584499, 8.13584499, 8.13584499, 8.13584499,\n        8.13584499, 8.13584499, 8.13584499, 8.13584499, 8.13584499,\n        8.13584499, 8.13584499, 8.13584499, 8.13584499, 8.13584499,\n        8.13584499, 8.13584499, 8.13584499, 8.13584499, 8.13584499,\n        8.13584499, 8.13584499, 8.13584499, 8.13584499, 8.13584499,\n        8.13584499, 8.13584499, 8.13584499, 8.13584499, 8.13584499,\n        8.13584499, 8.13584499, 8.13584499, 8.13584499, 8.13584499,\n        8.13584499, 8.13584499, 8.13584499, 8.13584499]))"
     },
     "execution_count": 21,
     "metadata": {},
     "output_type": "execute_result"
    }
   ],
   "source": [
    "strategies[0], test_num_impute(strategies[0])"
   ]
  },
  {
   "cell_type": "code",
   "execution_count": 22,
   "metadata": {
    "ExecuteTime": {
     "end_time": "2024-03-21T15:20:31.312547Z",
     "start_time": "2024-03-21T15:20:31.299130Z"
    }
   },
   "outputs": [
    {
     "data": {
      "text/plain": "('median',\n array([3., 3., 3., 3., 3., 3., 3., 3., 3., 3., 3., 3., 3., 3., 3., 3., 3.,\n        3., 3., 3., 3., 3., 3., 3., 3., 3., 3., 3., 3., 3., 3., 3., 3., 3.,\n        3., 3., 3., 3., 3., 3., 3., 3., 3., 3., 3., 3., 3., 3., 3., 3., 3.,\n        3., 3., 3., 3., 3., 3., 3., 3., 3., 3., 3., 3., 3., 3., 3., 3., 3.,\n        3., 3., 3., 3., 3., 3., 3., 3., 3., 3., 3., 3., 3., 3., 3., 3., 3.,\n        3., 3., 3., 3., 3., 3., 3., 3., 3., 3., 3., 3., 3., 3., 3., 3., 3.,\n        3., 3., 3., 3., 3., 3., 3., 3., 3., 3., 3., 3., 3., 3., 3., 3., 3.,\n        3., 3., 3., 3., 3., 3., 3., 3., 3., 3., 3., 3., 3., 3., 3., 3., 3.,\n        3., 3., 3., 3., 3., 3., 3., 3., 3., 3., 3., 3., 3., 3., 3., 3., 3.,\n        3., 3., 3., 3., 3., 3., 3., 3., 3., 3., 3., 3., 3., 3., 3., 3., 3.,\n        3., 3., 3., 3., 3., 3., 3., 3., 3., 3., 3., 3., 3., 3., 3., 3., 3.,\n        3., 3., 3., 3., 3., 3., 3., 3., 3., 3., 3., 3., 3., 3., 3., 3., 3.,\n        3., 3., 3., 3., 3., 3., 3., 3., 3., 3., 3., 3., 3., 3., 3., 3., 3.,\n        3., 3., 3., 3., 3., 3., 3., 3., 3., 3., 3., 3., 3., 3., 3., 3., 3.,\n        3., 3., 3., 3., 3., 3., 3., 3., 3., 3., 3., 3., 3., 3., 3., 3., 3.,\n        3., 3., 3., 3., 3., 3., 3., 3., 3., 3., 3., 3., 3., 3., 3., 3., 3.,\n        3., 3., 3., 3., 3., 3., 3., 3., 3., 3., 3., 3., 3., 3., 3., 3., 3.,\n        3., 3., 3., 3., 3., 3., 3., 3., 3., 3., 3., 3., 3., 3., 3., 3., 3.,\n        3., 3., 3., 3., 3., 3., 3., 3., 3., 3., 3., 3., 3., 3., 3., 3., 3.,\n        3., 3., 3., 3., 3., 3., 3., 3., 3., 3., 3., 3., 3., 3., 3., 3., 3.,\n        3., 3., 3., 3., 3., 3., 3., 3., 3., 3., 3., 3., 3., 3., 3., 3., 3.,\n        3., 3., 3., 3., 3., 3., 3., 3., 3., 3., 3., 3., 3., 3., 3., 3., 3.,\n        3., 3., 3., 3., 3., 3., 3., 3., 3., 3., 3., 3., 3., 3., 3., 3., 3.,\n        3., 3., 3., 3., 3., 3., 3., 3., 3., 3., 3., 3., 3., 3., 3., 3., 3.,\n        3.]))"
     },
     "execution_count": 22,
     "metadata": {},
     "output_type": "execute_result"
    }
   ],
   "source": [
    "strategies[1], test_num_impute(strategies[1])"
   ]
  },
  {
   "cell_type": "code",
   "execution_count": 23,
   "metadata": {
    "ExecuteTime": {
     "end_time": "2024-03-21T15:20:31.962728Z",
     "start_time": "2024-03-21T15:20:31.941782Z"
    }
   },
   "outputs": [
    {
     "data": {
      "text/plain": "('most_frequent',\n array([1., 1., 1., 1., 1., 1., 1., 1., 1., 1., 1., 1., 1., 1., 1., 1., 1.,\n        1., 1., 1., 1., 1., 1., 1., 1., 1., 1., 1., 1., 1., 1., 1., 1., 1.,\n        1., 1., 1., 1., 1., 1., 1., 1., 1., 1., 1., 1., 1., 1., 1., 1., 1.,\n        1., 1., 1., 1., 1., 1., 1., 1., 1., 1., 1., 1., 1., 1., 1., 1., 1.,\n        1., 1., 1., 1., 1., 1., 1., 1., 1., 1., 1., 1., 1., 1., 1., 1., 1.,\n        1., 1., 1., 1., 1., 1., 1., 1., 1., 1., 1., 1., 1., 1., 1., 1., 1.,\n        1., 1., 1., 1., 1., 1., 1., 1., 1., 1., 1., 1., 1., 1., 1., 1., 1.,\n        1., 1., 1., 1., 1., 1., 1., 1., 1., 1., 1., 1., 1., 1., 1., 1., 1.,\n        1., 1., 1., 1., 1., 1., 1., 1., 1., 1., 1., 1., 1., 1., 1., 1., 1.,\n        1., 1., 1., 1., 1., 1., 1., 1., 1., 1., 1., 1., 1., 1., 1., 1., 1.,\n        1., 1., 1., 1., 1., 1., 1., 1., 1., 1., 1., 1., 1., 1., 1., 1., 1.,\n        1., 1., 1., 1., 1., 1., 1., 1., 1., 1., 1., 1., 1., 1., 1., 1., 1.,\n        1., 1., 1., 1., 1., 1., 1., 1., 1., 1., 1., 1., 1., 1., 1., 1., 1.,\n        1., 1., 1., 1., 1., 1., 1., 1., 1., 1., 1., 1., 1., 1., 1., 1., 1.,\n        1., 1., 1., 1., 1., 1., 1., 1., 1., 1., 1., 1., 1., 1., 1., 1., 1.,\n        1., 1., 1., 1., 1., 1., 1., 1., 1., 1., 1., 1., 1., 1., 1., 1., 1.,\n        1., 1., 1., 1., 1., 1., 1., 1., 1., 1., 1., 1., 1., 1., 1., 1., 1.,\n        1., 1., 1., 1., 1., 1., 1., 1., 1., 1., 1., 1., 1., 1., 1., 1., 1.,\n        1., 1., 1., 1., 1., 1., 1., 1., 1., 1., 1., 1., 1., 1., 1., 1., 1.,\n        1., 1., 1., 1., 1., 1., 1., 1., 1., 1., 1., 1., 1., 1., 1., 1., 1.,\n        1., 1., 1., 1., 1., 1., 1., 1., 1., 1., 1., 1., 1., 1., 1., 1., 1.,\n        1., 1., 1., 1., 1., 1., 1., 1., 1., 1., 1., 1., 1., 1., 1., 1., 1.,\n        1., 1., 1., 1., 1., 1., 1., 1., 1., 1., 1., 1., 1., 1., 1., 1., 1.,\n        1., 1., 1., 1., 1., 1., 1., 1., 1., 1., 1., 1., 1., 1., 1., 1., 1.,\n        1.]))"
     },
     "execution_count": 23,
     "metadata": {},
     "output_type": "execute_result"
    }
   ],
   "source": [
    "strategies[2], test_num_impute(strategies[2])"
   ]
  },
  {
   "cell_type": "code",
   "execution_count": 24,
   "metadata": {
    "ExecuteTime": {
     "end_time": "2024-03-21T15:20:32.745512Z",
     "start_time": "2024-03-21T15:20:32.739859Z"
    }
   },
   "outputs": [],
   "source": [
    "# Более сложная функция, которая позволяет задавать колонку и вид импьютации\n",
    "def test_num_impute_col(dataset, column, strategy_param):\n",
    "    temp_data = dataset[[column]]\n",
    "    \n",
    "    indicator = MissingIndicator()\n",
    "    mask_missing_values_only = indicator.fit_transform(temp_data)\n",
    "    \n",
    "    imp_num = SimpleImputer(strategy=strategy_param)\n",
    "    data_num_imp = imp_num.fit_transform(temp_data)\n",
    "    \n",
    "    filled_data = data_num_imp[mask_missing_values_only]\n",
    "    \n",
    "    return column, strategy_param, filled_data.size, filled_data[0], filled_data[filled_data.size-1]"
   ]
  },
  {
   "cell_type": "code",
   "execution_count": 25,
   "metadata": {
    "ExecuteTime": {
     "end_time": "2024-03-21T15:20:33.580162Z",
     "start_time": "2024-03-21T15:20:33.560788Z"
    }
   },
   "outputs": [
    {
     "data": {
      "text/plain": "       reviews per month\ncount       86720.000000\nmean            1.374022\nstd             1.746621\nmin             0.010000\n25%             0.220000\n50%             0.740000\n75%             2.000000\nmax            90.000000",
      "text/html": "<div>\n<style scoped>\n    .dataframe tbody tr th:only-of-type {\n        vertical-align: middle;\n    }\n\n    .dataframe tbody tr th {\n        vertical-align: top;\n    }\n\n    .dataframe thead th {\n        text-align: right;\n    }\n</style>\n<table border=\"1\" class=\"dataframe\">\n  <thead>\n    <tr style=\"text-align: right;\">\n      <th></th>\n      <th>reviews per month</th>\n    </tr>\n  </thead>\n  <tbody>\n    <tr>\n      <th>count</th>\n      <td>86720.000000</td>\n    </tr>\n    <tr>\n      <th>mean</th>\n      <td>1.374022</td>\n    </tr>\n    <tr>\n      <th>std</th>\n      <td>1.746621</td>\n    </tr>\n    <tr>\n      <th>min</th>\n      <td>0.010000</td>\n    </tr>\n    <tr>\n      <th>25%</th>\n      <td>0.220000</td>\n    </tr>\n    <tr>\n      <th>50%</th>\n      <td>0.740000</td>\n    </tr>\n    <tr>\n      <th>75%</th>\n      <td>2.000000</td>\n    </tr>\n    <tr>\n      <th>max</th>\n      <td>90.000000</td>\n    </tr>\n  </tbody>\n</table>\n</div>"
     },
     "execution_count": 25,
     "metadata": {},
     "output_type": "execute_result"
    }
   ],
   "source": [
    "data[['reviews per month']].describe()"
   ]
  },
  {
   "cell_type": "code",
   "execution_count": 26,
   "metadata": {
    "ExecuteTime": {
     "end_time": "2024-03-21T15:20:34.410807Z",
     "start_time": "2024-03-21T15:20:34.403430Z"
    }
   },
   "outputs": [
    {
     "data": {
      "text/plain": "('reviews per month', 'mean', 15879, 1.374021909594096, 1.374021909594096)"
     },
     "execution_count": 26,
     "metadata": {},
     "output_type": "execute_result"
    }
   ],
   "source": [
    "test_num_impute_col(data, 'reviews per month', strategies[0])"
   ]
  },
  {
   "cell_type": "code",
   "execution_count": 27,
   "metadata": {
    "ExecuteTime": {
     "end_time": "2024-03-21T15:20:34.959019Z",
     "start_time": "2024-03-21T15:20:34.941321Z"
    }
   },
   "outputs": [
    {
     "data": {
      "text/plain": "('reviews per month', 'median', 15879, 0.74, 0.74)"
     },
     "execution_count": 27,
     "metadata": {},
     "output_type": "execute_result"
    }
   ],
   "source": [
    "test_num_impute_col(data, 'reviews per month', strategies[1])"
   ]
  },
  {
   "cell_type": "code",
   "execution_count": 28,
   "metadata": {
    "ExecuteTime": {
     "end_time": "2024-03-21T15:20:35.486520Z",
     "start_time": "2024-03-21T15:20:35.476152Z"
    }
   },
   "outputs": [
    {
     "data": {
      "text/plain": "('reviews per month', 'most_frequent', 15879, 0.03, 0.03)"
     },
     "execution_count": 28,
     "metadata": {},
     "output_type": "execute_result"
    }
   ],
   "source": [
    "test_num_impute_col(data, 'reviews per month', strategies[2])"
   ]
  },
  {
   "cell_type": "markdown",
   "metadata": {},
   "source": [
    "### Обработка пропусков в категориальных данных"
   ]
  },
  {
   "cell_type": "code",
   "execution_count": 29,
   "metadata": {
    "ExecuteTime": {
     "end_time": "2024-03-21T15:20:37.414905Z",
     "start_time": "2024-03-21T15:20:37.328218Z"
    }
   },
   "outputs": [
    {
     "name": "stdout",
     "output_type": "stream",
     "text": [
      "Колонка NAME. Тип данных object. Количество пустых значений 250, 0.24%.\n",
      "Колонка host_identity_verified. Тип данных object. Количество пустых значений 289, 0.28%.\n",
      "Колонка host name. Тип данных object. Количество пустых значений 406, 0.4%.\n",
      "Колонка neighbourhood group. Тип данных object. Количество пустых значений 29, 0.03%.\n",
      "Колонка neighbourhood. Тип данных object. Количество пустых значений 16, 0.02%.\n",
      "Колонка country. Тип данных object. Количество пустых значений 532, 0.52%.\n",
      "Колонка country code. Тип данных object. Количество пустых значений 131, 0.13%.\n",
      "Колонка instant_bookable. Тип данных object. Количество пустых значений 105, 0.1%.\n",
      "Колонка cancellation_policy. Тип данных object. Количество пустых значений 76, 0.07%.\n",
      "Колонка price. Тип данных object. Количество пустых значений 247, 0.24%.\n",
      "Колонка last review. Тип данных object. Количество пустых значений 15893, 15.49%.\n",
      "Колонка house_rules. Тип данных object. Количество пустых значений 52131, 50.81%.\n",
      "Колонка license. Тип данных object. Количество пустых значений 102597, 100.0%.\n"
     ]
    }
   ],
   "source": [
    "# Выберем категориальные колонки с пропущенными значениями\n",
    "# Цикл по колонкам датасета\n",
    "cat_cols = []\n",
    "for col in data.columns:\n",
    "    # Количество пустых значений \n",
    "    temp_null_count = data[data[col].isnull()].shape[0]\n",
    "    dt = str(data[col].dtype)\n",
    "    if temp_null_count>0 and (dt=='object'):\n",
    "        cat_cols.append(col)\n",
    "        temp_perc = round((temp_null_count / total_count) * 100.0, 2)\n",
    "        print('Колонка {}. Тип данных {}. Количество пустых значений {}, {}%.'.format(col, dt, temp_null_count, temp_perc))"
   ]
  },
  {
   "cell_type": "markdown",
   "metadata": {},
   "source": [
    "Класс SimpleImputer можно использовать для категориальных признаков со стратегиями \"most_frequent\" или \"constant\"."
   ]
  },
  {
   "cell_type": "code",
   "execution_count": 30,
   "metadata": {
    "ExecuteTime": {
     "end_time": "2024-03-21T15:20:40.058262Z",
     "start_time": "2024-03-21T15:20:40.033817Z"
    }
   },
   "outputs": [
    {
     "data": {
      "text/plain": "  cancellation_policy\n0              strict\n1            moderate\n2            flexible\n3            moderate\n4            moderate",
      "text/html": "<div>\n<style scoped>\n    .dataframe tbody tr th:only-of-type {\n        vertical-align: middle;\n    }\n\n    .dataframe tbody tr th {\n        vertical-align: top;\n    }\n\n    .dataframe thead th {\n        text-align: right;\n    }\n</style>\n<table border=\"1\" class=\"dataframe\">\n  <thead>\n    <tr style=\"text-align: right;\">\n      <th></th>\n      <th>cancellation_policy</th>\n    </tr>\n  </thead>\n  <tbody>\n    <tr>\n      <th>0</th>\n      <td>strict</td>\n    </tr>\n    <tr>\n      <th>1</th>\n      <td>moderate</td>\n    </tr>\n    <tr>\n      <th>2</th>\n      <td>flexible</td>\n    </tr>\n    <tr>\n      <th>3</th>\n      <td>moderate</td>\n    </tr>\n    <tr>\n      <th>4</th>\n      <td>moderate</td>\n    </tr>\n  </tbody>\n</table>\n</div>"
     },
     "execution_count": 30,
     "metadata": {},
     "output_type": "execute_result"
    }
   ],
   "source": [
    "cat_temp_data = data[['cancellation_policy']]\n",
    "cat_temp_data.head()"
   ]
  },
  {
   "cell_type": "code",
   "execution_count": 31,
   "metadata": {
    "ExecuteTime": {
     "end_time": "2024-03-21T15:20:40.794025Z",
     "start_time": "2024-03-21T15:20:40.787687Z"
    }
   },
   "outputs": [
    {
     "data": {
      "text/plain": "array(['strict', 'moderate', 'flexible', nan], dtype=object)"
     },
     "execution_count": 31,
     "metadata": {},
     "output_type": "execute_result"
    }
   ],
   "source": [
    "cat_temp_data['cancellation_policy'].unique()"
   ]
  },
  {
   "cell_type": "code",
   "execution_count": 32,
   "metadata": {
    "ExecuteTime": {
     "end_time": "2024-03-21T15:20:41.681013Z",
     "start_time": "2024-03-21T15:20:41.672959Z"
    }
   },
   "outputs": [
    {
     "data": {
      "text/plain": "(76, 1)"
     },
     "execution_count": 32,
     "metadata": {},
     "output_type": "execute_result"
    }
   ],
   "source": [
    "cat_temp_data[cat_temp_data['cancellation_policy'].isnull()].shape"
   ]
  },
  {
   "cell_type": "code",
   "execution_count": 33,
   "metadata": {
    "ExecuteTime": {
     "end_time": "2024-03-21T15:20:42.324875Z",
     "start_time": "2024-03-21T15:20:42.311057Z"
    }
   },
   "outputs": [
    {
     "data": {
      "text/plain": "array([['strict'],\n       ['moderate'],\n       ['flexible'],\n       ...,\n       ['moderate'],\n       ['strict'],\n       ['flexible']], dtype=object)"
     },
     "execution_count": 33,
     "metadata": {},
     "output_type": "execute_result"
    }
   ],
   "source": [
    "# Импьютация наиболее частыми значениями\n",
    "imp2 = SimpleImputer(missing_values=np.nan, strategy='most_frequent')\n",
    "data_imp2 = imp2.fit_transform(cat_temp_data)\n",
    "data_imp2"
   ]
  },
  {
   "cell_type": "code",
   "execution_count": 34,
   "metadata": {
    "ExecuteTime": {
     "end_time": "2024-03-21T15:20:43.409723Z",
     "start_time": "2024-03-21T15:20:43.406873Z"
    }
   },
   "outputs": [
    {
     "data": {
      "text/plain": "array(['flexible', 'moderate', 'strict'], dtype=object)"
     },
     "execution_count": 34,
     "metadata": {},
     "output_type": "execute_result"
    }
   ],
   "source": [
    "# Пустые значения отсутствуют\n",
    "np.unique(data_imp2)"
   ]
  },
  {
   "cell_type": "code",
   "execution_count": 35,
   "metadata": {
    "ExecuteTime": {
     "end_time": "2024-03-21T15:20:44.886665Z",
     "start_time": "2024-03-21T15:20:44.867499Z"
    }
   },
   "outputs": [
    {
     "data": {
      "text/plain": "array([['strict'],\n       ['moderate'],\n       ['flexible'],\n       ...,\n       ['moderate'],\n       ['strict'],\n       ['flexible']], dtype=object)"
     },
     "execution_count": 35,
     "metadata": {},
     "output_type": "execute_result"
    }
   ],
   "source": [
    "# Импьютация константой\n",
    "imp3 = SimpleImputer(missing_values=np.nan, strategy='constant', fill_value='NA')\n",
    "data_imp3 = imp3.fit_transform(cat_temp_data)\n",
    "data_imp3"
   ]
  },
  {
   "cell_type": "code",
   "execution_count": 36,
   "metadata": {
    "ExecuteTime": {
     "end_time": "2024-03-21T15:20:46.038843Z",
     "start_time": "2024-03-21T15:20:46.014748Z"
    }
   },
   "outputs": [
    {
     "data": {
      "text/plain": "array(['NA', 'flexible', 'moderate', 'strict'], dtype=object)"
     },
     "execution_count": 36,
     "metadata": {},
     "output_type": "execute_result"
    }
   ],
   "source": [
    "np.unique(data_imp3)"
   ]
  },
  {
   "cell_type": "code",
   "execution_count": 37,
   "metadata": {
    "ExecuteTime": {
     "end_time": "2024-03-21T15:20:46.980682Z",
     "start_time": "2024-03-21T15:20:46.963781Z"
    }
   },
   "outputs": [
    {
     "data": {
      "text/plain": "76"
     },
     "execution_count": 37,
     "metadata": {},
     "output_type": "execute_result"
    }
   ],
   "source": [
    "data_imp3[data_imp3=='NA'].size"
   ]
  },
  {
   "cell_type": "markdown",
   "metadata": {},
   "source": [
    "# Преобразование категориальных признаков в числовые"
   ]
  },
  {
   "cell_type": "code",
   "execution_count": 38,
   "metadata": {
    "ExecuteTime": {
     "end_time": "2024-03-21T15:20:49.686297Z",
     "start_time": "2024-03-21T15:20:49.659469Z"
    }
   },
   "outputs": [
    {
     "data": {
      "text/plain": "              c1\n0         strict\n1       moderate\n2       flexible\n3       moderate\n4       moderate\n...          ...\n102594  flexible\n102595  moderate\n102596  moderate\n102597    strict\n102598  flexible\n\n[102599 rows x 1 columns]",
      "text/html": "<div>\n<style scoped>\n    .dataframe tbody tr th:only-of-type {\n        vertical-align: middle;\n    }\n\n    .dataframe tbody tr th {\n        vertical-align: top;\n    }\n\n    .dataframe thead th {\n        text-align: right;\n    }\n</style>\n<table border=\"1\" class=\"dataframe\">\n  <thead>\n    <tr style=\"text-align: right;\">\n      <th></th>\n      <th>c1</th>\n    </tr>\n  </thead>\n  <tbody>\n    <tr>\n      <th>0</th>\n      <td>strict</td>\n    </tr>\n    <tr>\n      <th>1</th>\n      <td>moderate</td>\n    </tr>\n    <tr>\n      <th>2</th>\n      <td>flexible</td>\n    </tr>\n    <tr>\n      <th>3</th>\n      <td>moderate</td>\n    </tr>\n    <tr>\n      <th>4</th>\n      <td>moderate</td>\n    </tr>\n    <tr>\n      <th>...</th>\n      <td>...</td>\n    </tr>\n    <tr>\n      <th>102594</th>\n      <td>flexible</td>\n    </tr>\n    <tr>\n      <th>102595</th>\n      <td>moderate</td>\n    </tr>\n    <tr>\n      <th>102596</th>\n      <td>moderate</td>\n    </tr>\n    <tr>\n      <th>102597</th>\n      <td>strict</td>\n    </tr>\n    <tr>\n      <th>102598</th>\n      <td>flexible</td>\n    </tr>\n  </tbody>\n</table>\n<p>102599 rows × 1 columns</p>\n</div>"
     },
     "execution_count": 38,
     "metadata": {},
     "output_type": "execute_result"
    }
   ],
   "source": [
    "cat_enc = pd.DataFrame({'c1':data_imp2.T[0]})\n",
    "cat_enc"
   ]
  },
  {
   "cell_type": "markdown",
   "metadata": {},
   "source": [
    "## Кодирование категорий целочисленными значениями (label encoding)\n",
    "\n",
    "В этом случае уникальные значения категориального признака кодируются целыми числами.\n",
    "\n",
    "В scikit-learn для такого кодирования используется два класса :\n",
    "\n",
    "- [LabelEncoder](https://scikit-learn.org/stable/modules/generated/sklearn.preprocessing.LabelEncoder.html) - который ориентирован на применение к одному признаку. Этот класс прежде всего предназначен для кодирования целевого признака, но может быть также использован для последовательного кодирования отдельных нецелевых признаков.\n",
    "- [OrdinalEncoder](https://scikit-learn.org/stable/modules/generated/sklearn.preprocessing.OrdinalEncoder.html) - который ориентирован на применение к матрице объект-признак, то есть для кодирования матрицы нецелевых признаков."
   ]
  },
  {
   "cell_type": "markdown",
   "metadata": {},
   "source": [
    "### Использование LabelEncoder"
   ]
  },
  {
   "cell_type": "code",
   "execution_count": 39,
   "metadata": {
    "ExecuteTime": {
     "end_time": "2024-03-21T15:20:52.255293Z",
     "start_time": "2024-03-21T15:20:52.233145Z"
    }
   },
   "outputs": [],
   "source": [
    "from sklearn.preprocessing import LabelEncoder"
   ]
  },
  {
   "cell_type": "code",
   "execution_count": 40,
   "metadata": {
    "ExecuteTime": {
     "end_time": "2024-03-21T15:20:53.251918Z",
     "start_time": "2024-03-21T15:20:53.246978Z"
    }
   },
   "outputs": [
    {
     "data": {
      "text/plain": "array(['strict', 'moderate', 'flexible'], dtype=object)"
     },
     "execution_count": 40,
     "metadata": {},
     "output_type": "execute_result"
    }
   ],
   "source": [
    "cat_enc['c1'].unique()"
   ]
  },
  {
   "cell_type": "code",
   "execution_count": 41,
   "metadata": {
    "ExecuteTime": {
     "end_time": "2024-03-21T15:20:54.096885Z",
     "start_time": "2024-03-21T15:20:54.090936Z"
    }
   },
   "outputs": [],
   "source": [
    "le = LabelEncoder()\n",
    "cat_enc_le = le.fit_transform(cat_enc['c1'])"
   ]
  },
  {
   "cell_type": "code",
   "execution_count": 42,
   "metadata": {
    "ExecuteTime": {
     "end_time": "2024-03-21T15:20:54.704902Z",
     "start_time": "2024-03-21T15:20:54.696001Z"
    }
   },
   "outputs": [
    {
     "data": {
      "text/plain": "array(['flexible', 'moderate', 'strict'], dtype=object)"
     },
     "execution_count": 42,
     "metadata": {},
     "output_type": "execute_result"
    }
   ],
   "source": [
    "# Наименования категорий в соответствии с порядковыми номерами\n",
    "\n",
    "# Свойство называется classes, потому что предполагается что мы решаем \n",
    "# задачу классификации и каждое значение категории соответствует \n",
    "# какому-либо классу целевого признака\n",
    "\n",
    "le.classes_"
   ]
  },
  {
   "cell_type": "code",
   "execution_count": 43,
   "metadata": {
    "ExecuteTime": {
     "end_time": "2024-03-21T15:20:55.707573Z",
     "start_time": "2024-03-21T15:20:55.704804Z"
    }
   },
   "outputs": [
    {
     "data": {
      "text/plain": "array([2, 1, 0, ..., 1, 2, 0])"
     },
     "execution_count": 43,
     "metadata": {},
     "output_type": "execute_result"
    }
   ],
   "source": [
    "cat_enc_le"
   ]
  },
  {
   "cell_type": "code",
   "execution_count": 44,
   "metadata": {
    "ExecuteTime": {
     "end_time": "2024-03-21T15:20:56.473368Z",
     "start_time": "2024-03-21T15:20:56.467908Z"
    }
   },
   "outputs": [
    {
     "data": {
      "text/plain": "array([0, 1, 2])"
     },
     "execution_count": 44,
     "metadata": {},
     "output_type": "execute_result"
    }
   ],
   "source": [
    "np.unique(cat_enc_le)"
   ]
  },
  {
   "cell_type": "code",
   "execution_count": 45,
   "metadata": {
    "ExecuteTime": {
     "end_time": "2024-03-21T15:20:57.331021Z",
     "start_time": "2024-03-21T15:20:57.322948Z"
    }
   },
   "outputs": [
    {
     "data": {
      "text/plain": "array(['flexible', 'moderate', 'strict'], dtype=object)"
     },
     "execution_count": 45,
     "metadata": {},
     "output_type": "execute_result"
    }
   ],
   "source": [
    "# В этом примере видно, что перед кодированием \n",
    "# уникальные значения признака сортируются в лексикографиеском порядке\n",
    "le.inverse_transform([0, 1, 2])"
   ]
  },
  {
   "cell_type": "markdown",
   "metadata": {},
   "source": [
    "### Использование OrdinalEncoder"
   ]
  },
  {
   "cell_type": "code",
   "execution_count": 46,
   "metadata": {
    "ExecuteTime": {
     "end_time": "2024-03-21T15:20:59.322192Z",
     "start_time": "2024-03-21T15:20:59.304155Z"
    }
   },
   "outputs": [],
   "source": [
    "from sklearn.preprocessing import OrdinalEncoder"
   ]
  },
  {
   "cell_type": "code",
   "execution_count": 47,
   "metadata": {
    "ExecuteTime": {
     "end_time": "2024-03-21T15:20:59.874035Z",
     "start_time": "2024-03-21T15:20:59.861513Z"
    }
   },
   "outputs": [
    {
     "data": {
      "text/plain": "  cancellation_policy        room type country code\n0              strict     Private room           US\n1            moderate  Entire home/apt           US\n2            flexible     Private room           US\n3            moderate  Entire home/apt           US\n4            moderate  Entire home/apt           US",
      "text/html": "<div>\n<style scoped>\n    .dataframe tbody tr th:only-of-type {\n        vertical-align: middle;\n    }\n\n    .dataframe tbody tr th {\n        vertical-align: top;\n    }\n\n    .dataframe thead th {\n        text-align: right;\n    }\n</style>\n<table border=\"1\" class=\"dataframe\">\n  <thead>\n    <tr style=\"text-align: right;\">\n      <th></th>\n      <th>cancellation_policy</th>\n      <th>room type</th>\n      <th>country code</th>\n    </tr>\n  </thead>\n  <tbody>\n    <tr>\n      <th>0</th>\n      <td>strict</td>\n      <td>Private room</td>\n      <td>US</td>\n    </tr>\n    <tr>\n      <th>1</th>\n      <td>moderate</td>\n      <td>Entire home/apt</td>\n      <td>US</td>\n    </tr>\n    <tr>\n      <th>2</th>\n      <td>flexible</td>\n      <td>Private room</td>\n      <td>US</td>\n    </tr>\n    <tr>\n      <th>3</th>\n      <td>moderate</td>\n      <td>Entire home/apt</td>\n      <td>US</td>\n    </tr>\n    <tr>\n      <th>4</th>\n      <td>moderate</td>\n      <td>Entire home/apt</td>\n      <td>US</td>\n    </tr>\n  </tbody>\n</table>\n</div>"
     },
     "execution_count": 47,
     "metadata": {},
     "output_type": "execute_result"
    }
   ],
   "source": [
    "data_oe = data[['cancellation_policy', 'room type', 'country code']]\n",
    "data_oe.head()"
   ]
  },
  {
   "cell_type": "code",
   "execution_count": 48,
   "metadata": {
    "ExecuteTime": {
     "end_time": "2024-03-21T15:21:00.626514Z",
     "start_time": "2024-03-21T15:21:00.619051Z"
    }
   },
   "outputs": [
    {
     "data": {
      "text/plain": "array([['strict', 'Private room', 'US'],\n       ['moderate', 'Entire home/apt', 'US'],\n       ['flexible', 'Private room', 'US'],\n       ...,\n       ['moderate', 'Private room', 'US'],\n       ['strict', 'Entire home/apt', 'US'],\n       ['flexible', 'Entire home/apt', 'US']], dtype=object)"
     },
     "execution_count": 48,
     "metadata": {},
     "output_type": "execute_result"
    }
   ],
   "source": [
    "imp4 = SimpleImputer(missing_values=np.nan, strategy='constant', fill_value='NA')\n",
    "data_oe_filled = imp4.fit_transform(data_oe)\n",
    "data_oe_filled"
   ]
  },
  {
   "cell_type": "code",
   "execution_count": 49,
   "metadata": {
    "ExecuteTime": {
     "end_time": "2024-03-21T15:21:01.478557Z",
     "start_time": "2024-03-21T15:21:01.447970Z"
    }
   },
   "outputs": [
    {
     "data": {
      "text/plain": "array([[3., 2., 1.],\n       [2., 0., 1.],\n       [1., 2., 1.],\n       ...,\n       [2., 2., 1.],\n       [3., 0., 1.],\n       [1., 0., 1.]])"
     },
     "execution_count": 49,
     "metadata": {},
     "output_type": "execute_result"
    }
   ],
   "source": [
    "oe = OrdinalEncoder()\n",
    "cat_enc_oe = oe.fit_transform(data_oe_filled)\n",
    "cat_enc_oe"
   ]
  },
  {
   "cell_type": "code",
   "execution_count": 50,
   "metadata": {
    "ExecuteTime": {
     "end_time": "2024-03-21T15:21:02.607952Z",
     "start_time": "2024-03-21T15:21:02.576652Z"
    }
   },
   "outputs": [
    {
     "data": {
      "text/plain": "array([0., 1., 2., 3.])"
     },
     "execution_count": 50,
     "metadata": {},
     "output_type": "execute_result"
    }
   ],
   "source": [
    "# Уникальные значения 1 признака\n",
    "np.unique(cat_enc_oe[:, 0])"
   ]
  },
  {
   "cell_type": "code",
   "execution_count": 51,
   "metadata": {
    "ExecuteTime": {
     "end_time": "2024-03-21T15:21:03.481755Z",
     "start_time": "2024-03-21T15:21:03.474119Z"
    }
   },
   "outputs": [
    {
     "data": {
      "text/plain": "array([0., 1., 2., 3.])"
     },
     "execution_count": 51,
     "metadata": {},
     "output_type": "execute_result"
    }
   ],
   "source": [
    "# Уникальные значения 2 признака\n",
    "np.unique(cat_enc_oe[:, 1])"
   ]
  },
  {
   "cell_type": "code",
   "execution_count": 52,
   "metadata": {
    "ExecuteTime": {
     "end_time": "2024-03-21T15:21:04.196273Z",
     "start_time": "2024-03-21T15:21:04.180116Z"
    }
   },
   "outputs": [
    {
     "data": {
      "text/plain": "array([0., 1.])"
     },
     "execution_count": 52,
     "metadata": {},
     "output_type": "execute_result"
    }
   ],
   "source": [
    "# Уникальные значения 3 признака\n",
    "np.unique(cat_enc_oe[:, 2])"
   ]
  },
  {
   "cell_type": "code",
   "execution_count": 53,
   "metadata": {
    "ExecuteTime": {
     "end_time": "2024-03-21T15:21:04.866716Z",
     "start_time": "2024-03-21T15:21:04.861519Z"
    }
   },
   "outputs": [
    {
     "data": {
      "text/plain": "[array(['NA', 'flexible', 'moderate', 'strict'], dtype=object),\n array(['Entire home/apt', 'Hotel room', 'Private room', 'Shared room'],\n       dtype=object),\n array(['NA', 'US'], dtype=object)]"
     },
     "execution_count": 53,
     "metadata": {},
     "output_type": "execute_result"
    }
   ],
   "source": [
    "# Наименования категорий в соответствии с порядковыми номерами\n",
    "oe.categories_"
   ]
  },
  {
   "cell_type": "code",
   "execution_count": 54,
   "metadata": {
    "ExecuteTime": {
     "end_time": "2024-03-21T15:21:05.498046Z",
     "start_time": "2024-03-21T15:21:05.489132Z"
    }
   },
   "outputs": [
    {
     "data": {
      "text/plain": "array([['strict', 'Private room', 'US'],\n       ['moderate', 'Entire home/apt', 'US'],\n       ['flexible', 'Private room', 'US'],\n       ...,\n       ['moderate', 'Private room', 'US'],\n       ['strict', 'Entire home/apt', 'US'],\n       ['flexible', 'Entire home/apt', 'US']], dtype=object)"
     },
     "execution_count": 54,
     "metadata": {},
     "output_type": "execute_result"
    }
   ],
   "source": [
    "# Обратное преобразование\n",
    "oe.inverse_transform(cat_enc_oe)"
   ]
  },
  {
   "cell_type": "markdown",
   "metadata": {},
   "source": [
    "### Проблемы использования LabelEncoder и OrdinalEncoder\n",
    "\n",
    "Необходимо отметить, что LabelEncoder и OrdinalEncoder могут использоваться только для категориальных признаков в номинальных шкалах (для которых отсутствует порядок), например города, страны, названия рек и т.д. \n",
    "\n",
    "Это связано с тем, что задать какой-либо порядок при кодировании с помощью LabelEncoder и OrdinalEncoder невозможно, они сортируют категории в лексикографическом порядке.\n",
    "\n",
    "При этом кодирование целыми числами создает фиктивное отношение порядка (1 < 2 < 3 < ...) которого не было в исходных номинальных шкалах. Данное отношение порядка может негативно повлиять на построение модели машинного обучения."
   ]
  },
  {
   "cell_type": "markdown",
   "metadata": {},
   "source": [
    "### Кодирование шкал порядка\n",
    "\n",
    "Библиотека scikit-learn не предоставляет готового решения для кодирования шкал порядка, но можно воспользоваться [функцией map для отдельных объектов Series.](https://pandas.pydata.org/docs/reference/api/pandas.Series.map.html)"
   ]
  },
  {
   "cell_type": "code",
   "execution_count": 55,
   "metadata": {
    "ExecuteTime": {
     "end_time": "2024-03-21T15:21:11.984698Z",
     "start_time": "2024-03-21T15:21:11.978788Z"
    }
   },
   "outputs": [],
   "source": [
    "# пример шкалы порядка 'small' < 'medium' < 'large'\n",
    "sizes = ['small', 'medium', 'large', 'small', 'medium', 'large', 'small', 'medium', 'large']"
   ]
  },
  {
   "cell_type": "code",
   "execution_count": 56,
   "metadata": {
    "ExecuteTime": {
     "end_time": "2024-03-21T15:21:12.595529Z",
     "start_time": "2024-03-21T15:21:12.578099Z"
    }
   },
   "outputs": [
    {
     "data": {
      "text/plain": "    sizes\n0   small\n1  medium\n2   large\n3   small\n4  medium\n5   large\n6   small\n7  medium\n8   large",
      "text/html": "<div>\n<style scoped>\n    .dataframe tbody tr th:only-of-type {\n        vertical-align: middle;\n    }\n\n    .dataframe tbody tr th {\n        vertical-align: top;\n    }\n\n    .dataframe thead th {\n        text-align: right;\n    }\n</style>\n<table border=\"1\" class=\"dataframe\">\n  <thead>\n    <tr style=\"text-align: right;\">\n      <th></th>\n      <th>sizes</th>\n    </tr>\n  </thead>\n  <tbody>\n    <tr>\n      <th>0</th>\n      <td>small</td>\n    </tr>\n    <tr>\n      <th>1</th>\n      <td>medium</td>\n    </tr>\n    <tr>\n      <th>2</th>\n      <td>large</td>\n    </tr>\n    <tr>\n      <th>3</th>\n      <td>small</td>\n    </tr>\n    <tr>\n      <th>4</th>\n      <td>medium</td>\n    </tr>\n    <tr>\n      <th>5</th>\n      <td>large</td>\n    </tr>\n    <tr>\n      <th>6</th>\n      <td>small</td>\n    </tr>\n    <tr>\n      <th>7</th>\n      <td>medium</td>\n    </tr>\n    <tr>\n      <th>8</th>\n      <td>large</td>\n    </tr>\n  </tbody>\n</table>\n</div>"
     },
     "execution_count": 56,
     "metadata": {},
     "output_type": "execute_result"
    }
   ],
   "source": [
    "pd_sizes = pd.DataFrame(data={'sizes':sizes})\n",
    "pd_sizes"
   ]
  },
  {
   "cell_type": "code",
   "execution_count": 57,
   "metadata": {
    "ExecuteTime": {
     "end_time": "2024-03-21T15:21:13.227908Z",
     "start_time": "2024-03-21T15:21:13.207672Z"
    }
   },
   "outputs": [
    {
     "data": {
      "text/plain": "    sizes  sizes_codes\n0   small            1\n1  medium            2\n2   large            3\n3   small            1\n4  medium            2\n5   large            3\n6   small            1\n7  medium            2\n8   large            3",
      "text/html": "<div>\n<style scoped>\n    .dataframe tbody tr th:only-of-type {\n        vertical-align: middle;\n    }\n\n    .dataframe tbody tr th {\n        vertical-align: top;\n    }\n\n    .dataframe thead th {\n        text-align: right;\n    }\n</style>\n<table border=\"1\" class=\"dataframe\">\n  <thead>\n    <tr style=\"text-align: right;\">\n      <th></th>\n      <th>sizes</th>\n      <th>sizes_codes</th>\n    </tr>\n  </thead>\n  <tbody>\n    <tr>\n      <th>0</th>\n      <td>small</td>\n      <td>1</td>\n    </tr>\n    <tr>\n      <th>1</th>\n      <td>medium</td>\n      <td>2</td>\n    </tr>\n    <tr>\n      <th>2</th>\n      <td>large</td>\n      <td>3</td>\n    </tr>\n    <tr>\n      <th>3</th>\n      <td>small</td>\n      <td>1</td>\n    </tr>\n    <tr>\n      <th>4</th>\n      <td>medium</td>\n      <td>2</td>\n    </tr>\n    <tr>\n      <th>5</th>\n      <td>large</td>\n      <td>3</td>\n    </tr>\n    <tr>\n      <th>6</th>\n      <td>small</td>\n      <td>1</td>\n    </tr>\n    <tr>\n      <th>7</th>\n      <td>medium</td>\n      <td>2</td>\n    </tr>\n    <tr>\n      <th>8</th>\n      <td>large</td>\n      <td>3</td>\n    </tr>\n  </tbody>\n</table>\n</div>"
     },
     "execution_count": 57,
     "metadata": {},
     "output_type": "execute_result"
    }
   ],
   "source": [
    "pd_sizes['sizes_codes'] = pd_sizes['sizes'].map({'small':1, 'medium':2, 'large':3})\n",
    "pd_sizes"
   ]
  },
  {
   "cell_type": "code",
   "execution_count": 58,
   "metadata": {
    "ExecuteTime": {
     "end_time": "2024-03-21T15:21:13.893251Z",
     "start_time": "2024-03-21T15:21:13.867020Z"
    }
   },
   "outputs": [
    {
     "data": {
      "text/plain": "    sizes  sizes_codes sizes_decoded\n0   small            1         small\n1  medium            2        medium\n2   large            3         large\n3   small            1         small\n4  medium            2        medium\n5   large            3         large\n6   small            1         small\n7  medium            2        medium\n8   large            3         large",
      "text/html": "<div>\n<style scoped>\n    .dataframe tbody tr th:only-of-type {\n        vertical-align: middle;\n    }\n\n    .dataframe tbody tr th {\n        vertical-align: top;\n    }\n\n    .dataframe thead th {\n        text-align: right;\n    }\n</style>\n<table border=\"1\" class=\"dataframe\">\n  <thead>\n    <tr style=\"text-align: right;\">\n      <th></th>\n      <th>sizes</th>\n      <th>sizes_codes</th>\n      <th>sizes_decoded</th>\n    </tr>\n  </thead>\n  <tbody>\n    <tr>\n      <th>0</th>\n      <td>small</td>\n      <td>1</td>\n      <td>small</td>\n    </tr>\n    <tr>\n      <th>1</th>\n      <td>medium</td>\n      <td>2</td>\n      <td>medium</td>\n    </tr>\n    <tr>\n      <th>2</th>\n      <td>large</td>\n      <td>3</td>\n      <td>large</td>\n    </tr>\n    <tr>\n      <th>3</th>\n      <td>small</td>\n      <td>1</td>\n      <td>small</td>\n    </tr>\n    <tr>\n      <th>4</th>\n      <td>medium</td>\n      <td>2</td>\n      <td>medium</td>\n    </tr>\n    <tr>\n      <th>5</th>\n      <td>large</td>\n      <td>3</td>\n      <td>large</td>\n    </tr>\n    <tr>\n      <th>6</th>\n      <td>small</td>\n      <td>1</td>\n      <td>small</td>\n    </tr>\n    <tr>\n      <th>7</th>\n      <td>medium</td>\n      <td>2</td>\n      <td>medium</td>\n    </tr>\n    <tr>\n      <th>8</th>\n      <td>large</td>\n      <td>3</td>\n      <td>large</td>\n    </tr>\n  </tbody>\n</table>\n</div>"
     },
     "execution_count": 58,
     "metadata": {},
     "output_type": "execute_result"
    }
   ],
   "source": [
    "pd_sizes['sizes_decoded'] = pd_sizes['sizes_codes'].map({1:'small', 2:'medium', 3:'large'})\n",
    "pd_sizes"
   ]
  },
  {
   "cell_type": "markdown",
   "metadata": {},
   "source": [
    "## Кодирование категорий наборами бинарных значений - [one-hot encoding](https://scikit-learn.org/stable/modules/generated/sklearn.preprocessing.OneHotEncoder.html)\n",
    "\n",
    "В этом случае каждое уникальное значение признака становится новым отдельным признаком."
   ]
  },
  {
   "cell_type": "code",
   "execution_count": 59,
   "metadata": {
    "ExecuteTime": {
     "end_time": "2024-03-21T15:21:15.746861Z",
     "start_time": "2024-03-21T15:21:15.741485Z"
    }
   },
   "outputs": [],
   "source": [
    "from sklearn.preprocessing import OneHotEncoder"
   ]
  },
  {
   "cell_type": "code",
   "execution_count": 60,
   "metadata": {
    "ExecuteTime": {
     "end_time": "2024-03-21T15:21:17.338804Z",
     "start_time": "2024-03-21T15:21:17.320249Z"
    }
   },
   "outputs": [],
   "source": [
    "ohe = OneHotEncoder()\n",
    "cat_enc_ohe = ohe.fit_transform(cat_enc[['c1']])"
   ]
  },
  {
   "cell_type": "markdown",
   "source": [],
   "metadata": {
    "collapsed": false
   }
  },
  {
   "cell_type": "code",
   "execution_count": 61,
   "metadata": {
    "ExecuteTime": {
     "end_time": "2024-03-21T15:21:17.736982Z",
     "start_time": "2024-03-21T15:21:17.729185Z"
    }
   },
   "outputs": [
    {
     "data": {
      "text/plain": "(102599, 1)"
     },
     "execution_count": 61,
     "metadata": {},
     "output_type": "execute_result"
    }
   ],
   "source": [
    "cat_enc.shape"
   ]
  },
  {
   "cell_type": "code",
   "execution_count": 62,
   "metadata": {
    "ExecuteTime": {
     "end_time": "2024-03-21T15:21:18.234443Z",
     "start_time": "2024-03-21T15:21:18.228380Z"
    }
   },
   "outputs": [
    {
     "data": {
      "text/plain": "(102599, 3)"
     },
     "execution_count": 62,
     "metadata": {},
     "output_type": "execute_result"
    }
   ],
   "source": [
    "cat_enc_ohe.shape"
   ]
  },
  {
   "cell_type": "code",
   "execution_count": 63,
   "metadata": {
    "ExecuteTime": {
     "end_time": "2024-03-21T15:21:18.996714Z",
     "start_time": "2024-03-21T15:21:18.994010Z"
    }
   },
   "outputs": [
    {
     "data": {
      "text/plain": "<102599x3 sparse matrix of type '<class 'numpy.float64'>'\n\twith 102599 stored elements in Compressed Sparse Row format>"
     },
     "execution_count": 63,
     "metadata": {},
     "output_type": "execute_result"
    }
   ],
   "source": [
    "cat_enc_ohe"
   ]
  },
  {
   "cell_type": "code",
   "execution_count": 64,
   "metadata": {
    "ExecuteTime": {
     "end_time": "2024-03-21T15:21:19.655402Z",
     "start_time": "2024-03-21T15:21:19.649492Z"
    }
   },
   "outputs": [
    {
     "data": {
      "text/plain": "matrix([[0., 0., 1.],\n        [0., 1., 0.],\n        [1., 0., 0.],\n        [0., 1., 0.],\n        [0., 1., 0.],\n        [1., 0., 0.],\n        [0., 1., 0.],\n        [0., 1., 0.],\n        [0., 0., 1.],\n        [0., 0., 1.]])"
     },
     "execution_count": 64,
     "metadata": {},
     "output_type": "execute_result"
    }
   ],
   "source": [
    "cat_enc_ohe.todense()[0:10]"
   ]
  },
  {
   "cell_type": "code",
   "execution_count": 65,
   "metadata": {
    "ExecuteTime": {
     "end_time": "2024-03-21T15:21:20.467573Z",
     "start_time": "2024-03-21T15:21:20.457047Z"
    }
   },
   "outputs": [
    {
     "data": {
      "text/plain": "         c1\n0    strict\n1  moderate\n2  flexible\n3  moderate\n4  moderate\n5  flexible\n6  moderate\n7  moderate\n8    strict\n9    strict",
      "text/html": "<div>\n<style scoped>\n    .dataframe tbody tr th:only-of-type {\n        vertical-align: middle;\n    }\n\n    .dataframe tbody tr th {\n        vertical-align: top;\n    }\n\n    .dataframe thead th {\n        text-align: right;\n    }\n</style>\n<table border=\"1\" class=\"dataframe\">\n  <thead>\n    <tr style=\"text-align: right;\">\n      <th></th>\n      <th>c1</th>\n    </tr>\n  </thead>\n  <tbody>\n    <tr>\n      <th>0</th>\n      <td>strict</td>\n    </tr>\n    <tr>\n      <th>1</th>\n      <td>moderate</td>\n    </tr>\n    <tr>\n      <th>2</th>\n      <td>flexible</td>\n    </tr>\n    <tr>\n      <th>3</th>\n      <td>moderate</td>\n    </tr>\n    <tr>\n      <th>4</th>\n      <td>moderate</td>\n    </tr>\n    <tr>\n      <th>5</th>\n      <td>flexible</td>\n    </tr>\n    <tr>\n      <th>6</th>\n      <td>moderate</td>\n    </tr>\n    <tr>\n      <th>7</th>\n      <td>moderate</td>\n    </tr>\n    <tr>\n      <th>8</th>\n      <td>strict</td>\n    </tr>\n    <tr>\n      <th>9</th>\n      <td>strict</td>\n    </tr>\n  </tbody>\n</table>\n</div>"
     },
     "execution_count": 65,
     "metadata": {},
     "output_type": "execute_result"
    }
   ],
   "source": [
    "cat_enc.head(10)"
   ]
  },
  {
   "cell_type": "markdown",
   "metadata": {},
   "source": [
    "## [Pandas get_dummies](https://pandas.pydata.org/pandas-docs/stable/reference/api/pandas.get_dummies.html) - быстрый вариант one-hot кодирования"
   ]
  },
  {
   "cell_type": "code",
   "execution_count": 66,
   "metadata": {
    "ExecuteTime": {
     "end_time": "2024-03-21T15:21:23.061824Z",
     "start_time": "2024-03-21T15:21:23.040994Z"
    }
   },
   "outputs": [
    {
     "data": {
      "text/plain": "   c1_flexible  c1_moderate  c1_strict\n0        False        False       True\n1        False         True      False\n2         True        False      False\n3        False         True      False\n4        False         True      False",
      "text/html": "<div>\n<style scoped>\n    .dataframe tbody tr th:only-of-type {\n        vertical-align: middle;\n    }\n\n    .dataframe tbody tr th {\n        vertical-align: top;\n    }\n\n    .dataframe thead th {\n        text-align: right;\n    }\n</style>\n<table border=\"1\" class=\"dataframe\">\n  <thead>\n    <tr style=\"text-align: right;\">\n      <th></th>\n      <th>c1_flexible</th>\n      <th>c1_moderate</th>\n      <th>c1_strict</th>\n    </tr>\n  </thead>\n  <tbody>\n    <tr>\n      <th>0</th>\n      <td>False</td>\n      <td>False</td>\n      <td>True</td>\n    </tr>\n    <tr>\n      <th>1</th>\n      <td>False</td>\n      <td>True</td>\n      <td>False</td>\n    </tr>\n    <tr>\n      <th>2</th>\n      <td>True</td>\n      <td>False</td>\n      <td>False</td>\n    </tr>\n    <tr>\n      <th>3</th>\n      <td>False</td>\n      <td>True</td>\n      <td>False</td>\n    </tr>\n    <tr>\n      <th>4</th>\n      <td>False</td>\n      <td>True</td>\n      <td>False</td>\n    </tr>\n  </tbody>\n</table>\n</div>"
     },
     "execution_count": 66,
     "metadata": {},
     "output_type": "execute_result"
    }
   ],
   "source": [
    "pd.get_dummies(cat_enc).head()"
   ]
  },
  {
   "cell_type": "code",
   "execution_count": 67,
   "metadata": {
    "ExecuteTime": {
     "end_time": "2024-03-21T15:21:23.805767Z",
     "start_time": "2024-03-21T15:21:23.767507Z"
    }
   },
   "outputs": [
    {
     "data": {
      "text/plain": "   cancellation_policy_flexible  cancellation_policy_moderate  \\\n0                         False                         False   \n1                         False                          True   \n2                          True                         False   \n3                         False                          True   \n4                         False                          True   \n\n   cancellation_policy_strict  cancellation_policy_nan  \n0                        True                    False  \n1                       False                    False  \n2                       False                    False  \n3                       False                    False  \n4                       False                    False  ",
      "text/html": "<div>\n<style scoped>\n    .dataframe tbody tr th:only-of-type {\n        vertical-align: middle;\n    }\n\n    .dataframe tbody tr th {\n        vertical-align: top;\n    }\n\n    .dataframe thead th {\n        text-align: right;\n    }\n</style>\n<table border=\"1\" class=\"dataframe\">\n  <thead>\n    <tr style=\"text-align: right;\">\n      <th></th>\n      <th>cancellation_policy_flexible</th>\n      <th>cancellation_policy_moderate</th>\n      <th>cancellation_policy_strict</th>\n      <th>cancellation_policy_nan</th>\n    </tr>\n  </thead>\n  <tbody>\n    <tr>\n      <th>0</th>\n      <td>False</td>\n      <td>False</td>\n      <td>True</td>\n      <td>False</td>\n    </tr>\n    <tr>\n      <th>1</th>\n      <td>False</td>\n      <td>True</td>\n      <td>False</td>\n      <td>False</td>\n    </tr>\n    <tr>\n      <th>2</th>\n      <td>True</td>\n      <td>False</td>\n      <td>False</td>\n      <td>False</td>\n    </tr>\n    <tr>\n      <th>3</th>\n      <td>False</td>\n      <td>True</td>\n      <td>False</td>\n      <td>False</td>\n    </tr>\n    <tr>\n      <th>4</th>\n      <td>False</td>\n      <td>True</td>\n      <td>False</td>\n      <td>False</td>\n    </tr>\n  </tbody>\n</table>\n</div>"
     },
     "execution_count": 67,
     "metadata": {},
     "output_type": "execute_result"
    }
   ],
   "source": [
    "pd.get_dummies(cat_temp_data, dummy_na=True).head()"
   ]
  },
  {
   "cell_type": "markdown",
   "metadata": {},
   "source": [
    "# Масштабирование данных"
   ]
  },
  {
   "cell_type": "markdown",
   "metadata": {},
   "source": [
    "Термины \"масштабирование\" и \"нормализация\" часто используются как синонимы, но это неверно. Масштабирование предполагает изменение диапазона измерения величины, а нормализация - изменение распределения этой величины. В этом разделе рассматривается только масштабирование.\n",
    "\n",
    "Если признаки лежат в различных диапазонах, то необходимо их нормализовать. Как правило, применяют два подхода:\n",
    "- MinMax масштабирование:\n",
    "$$ x_{новый} = \\frac{x_{старый} - min(X)}{max(X)-min(X)} $$\n",
    "\n",
    "В этом случае значения лежат в диапазоне от 0 до 1.\n",
    "- Масштабирование данных на основе [Z-оценки](https://ru.wikipedia.org/wiki/Z-%D0%BE%D1%86%D0%B5%D0%BD%D0%BA%D0%B0):\n",
    "$$ x_{новый} = \\frac{x_{старый} - AVG(X) }{\\sigma(X)} $$\n",
    "\n",
    "В этом случае большинство значений попадает в диапазон от -3 до 3.\n",
    "\n",
    "где $X$ - матрица объект-признак, $AVG(X)$ - среднее значение, $\\sigma$ - среднеквадратичное отклонение."
   ]
  },
  {
   "cell_type": "code",
   "execution_count": 68,
   "metadata": {
    "ExecuteTime": {
     "end_time": "2024-03-21T15:21:31.935528Z",
     "start_time": "2024-03-21T15:21:31.920747Z"
    }
   },
   "outputs": [],
   "source": [
    "from sklearn.preprocessing import MinMaxScaler, StandardScaler, Normalizer"
   ]
  },
  {
   "cell_type": "markdown",
   "metadata": {},
   "source": [
    "## [MinMax масштабирование](https://scikit-learn.org/stable/modules/generated/sklearn.preprocessing.MinMaxScaler.html)"
   ]
  },
  {
   "cell_type": "code",
   "execution_count": 69,
   "metadata": {
    "ExecuteTime": {
     "end_time": "2024-03-21T15:21:33.234755Z",
     "start_time": "2024-03-21T15:21:33.214139Z"
    }
   },
   "outputs": [],
   "source": [
    "data['price'] = data['price'].str.replace(',', '')\n",
    "data['price'] = data['price'].astype(float)\n",
    "\n",
    "sc1 = MinMaxScaler()\n",
    "sc1_data = sc1.fit_transform(data[['price']])"
   ]
  },
  {
   "cell_type": "code",
   "execution_count": 70,
   "metadata": {
    "ExecuteTime": {
     "end_time": "2024-03-21T15:21:34.008376Z",
     "start_time": "2024-03-21T15:21:33.908550Z"
    }
   },
   "outputs": [
    {
     "data": {
      "text/plain": "<Figure size 640x480 with 1 Axes>",
      "image/png": "[encoded data removed]"
     },
     "metadata": {},
     "output_type": "display_data"
    }
   ],
   "source": [
    "plt.hist(data['price'], 50)\n",
    "plt.show()"
   ]
  },
  {
   "cell_type": "code",
   "execution_count": 71,
   "metadata": {
    "ExecuteTime": {
     "end_time": "2024-03-21T15:21:34.940729Z",
     "start_time": "2024-03-21T15:21:34.862416Z"
    }
   },
   "outputs": [
    {
     "data": {
      "text/plain": "<Figure size 640x480 with 1 Axes>",
      "image/png": "[encoded data removed]"
     },
     "metadata": {},
     "output_type": "display_data"
    }
   ],
   "source": [
    "plt.hist(sc1_data, 50)\n",
    "plt.show()"
   ]
  },
  {
   "cell_type": "markdown",
   "metadata": {},
   "source": [
    "## Масштабирование данных на основе [Z-оценки](https://ru.wikipedia.org/wiki/Z-%D0%BE%D1%86%D0%B5%D0%BD%D0%BA%D0%B0) - [StandardScaler](https://scikit-learn.org/stable/modules/generated/sklearn.preprocessing.StandardScaler.html#sklearn.preprocessing.StandardScaler)"
   ]
  },
  {
   "cell_type": "code",
   "execution_count": 72,
   "metadata": {
    "ExecuteTime": {
     "end_time": "2024-03-21T15:21:36.242192Z",
     "start_time": "2024-03-21T15:21:36.239759Z"
    }
   },
   "outputs": [],
   "source": [
    "sc2 = StandardScaler()\n",
    "sc2_data = sc2.fit_transform(data[['price']])"
   ]
  },
  {
   "cell_type": "code",
   "execution_count": 73,
   "metadata": {
    "ExecuteTime": {
     "end_time": "2024-03-21T15:21:37.140917Z",
     "start_time": "2024-03-21T15:21:36.946151Z"
    }
   },
   "outputs": [
    {
     "data": {
      "text/plain": "<Figure size 640x480 with 1 Axes>",
      "image/png": "[encoded data removed]"
     },
     "metadata": {},
     "output_type": "display_data"
    }
   ],
   "source": [
    "plt.hist(sc2_data, 50)\n",
    "plt.show()"
   ]
  }
 ],
 "metadata": {
  "kernelspec": {
   "display_name": "Python 3 (ipykernel)",
   "language": "python",
   "name": "python3"
  },
  "language_info": {
   "codemirror_mode": {
    "name": "ipython",
    "version": 3
   },
   "file_extension": ".py",
   "mimetype": "text/x-python",
   "name": "python",
   "nbconvert_exporter": "python",
   "pygments_lexer": "ipython3",
   "version": "3.9.7"
  },
  "toc": {
   "base_numbering": 1,
   "nav_menu": {},
   "number_sections": true,
   "sideBar": true,
   "skip_h1_title": false,
   "title_cell": "Table of Contents",
   "title_sidebar": "Contents",
   "toc_cell": false,
   "toc_position": {},
   "toc_section_display": true,
   "toc_window_display": false
  }
 },
 "nbformat": 4,
 "nbformat_minor": 2
}
